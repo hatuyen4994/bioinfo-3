{
 "cells": [
  {
   "cell_type": "code",
   "execution_count": 1,
   "metadata": {},
   "outputs": [],
   "source": [
    "import numpy as np"
   ]
  },
  {
   "cell_type": "markdown",
   "metadata": {},
   "source": [
    "```r\n",
    "DPChange(money, Coins)\n",
    "      MinNumCoins(0) ← 0\n",
    "      for m ← 1 to money\n",
    "         MinNumCoins(m) ← ∞\n",
    "         for i ← 0 to |Coins| - 1\n",
    "            if m ≥ coini\n",
    "               if MinNumCoins(m - coini) + 1 < MinNumCoins(m)\n",
    "                  MinNumCoins(m) ← MinNumCoins(m - coini) + 1\n",
    "      output MinNumCoins(money)\n",
    "```\n"
   ]
  },
  {
   "cell_type": "code",
   "execution_count": 2,
   "metadata": {},
   "outputs": [],
   "source": [
    "def DP_change(money, coins):\n",
    "    min_num_coins = {}\n",
    "    min_num_coins[0] = 0\n",
    "    for m in range(1, money + 1):\n",
    "        min_num_coins[m] = float(\"inf\")\n",
    "        for coin_value in coins:\n",
    "            if m >= coin_value:\n",
    "                if min_num_coins[m - coin_value] + 1 < min_num_coins[m]:\n",
    "                    min_num_coins[m] =  min_num_coins[m - coin_value] + 1\n",
    "    return min_num_coins[money]"
   ]
  },
  {
   "cell_type": "code",
   "execution_count": 3,
   "metadata": {},
   "outputs": [
    {
     "data": {
      "text/plain": [
       "747"
      ]
     },
     "execution_count": 3,
     "metadata": {},
     "output_type": "execute_result"
    }
   ],
   "source": [
    "money = 17181\n",
    "coins = [23,16,5,3,1]\n",
    "DP_change(money,coins)"
   ]
  },
  {
   "cell_type": "code",
   "execution_count": 4,
   "metadata": {},
   "outputs": [],
   "source": [
    "inp = \"\"\"10 12\n",
    "0 0 2 4 4 4 1 1 4 0 0 3 3\n",
    "2 0 2 0 0 3 2 1 3 1 3 4 0\n",
    "1 3 1 3 0 3 0 0 4 3 3 3 0\n",
    "0 2 4 1 1 4 1 1 0 2 3 4 0\n",
    "1 3 1 3 2 0 0 0 3 1 0 4 2\n",
    "3 1 2 4 3 1 2 2 3 0 4 0 3\n",
    "3 1 4 0 0 1 2 2 4 3 4 4 3\n",
    "2 1 3 3 1 3 0 1 0 0 2 1 1\n",
    "0 2 1 1 3 1 2 2 0 3 4 0 3\n",
    "1 0 2 1 2 1 2 3 3 2 3 0 4\n",
    "-\n",
    "0 4 4 0 2 0 1 2 3 4 4 1\n",
    "2 1 0 1 0 0 3 4 4 2 2 3\n",
    "2 1 0 1 3 4 4 2 4 1 4 4\n",
    "1 1 3 4 4 3 2 1 3 2 2 0\n",
    "2 2 3 3 1 0 0 3 1 1 2 4\n",
    "3 1 0 1 4 1 2 3 2 1 2 0\n",
    "2 2 2 4 1 0 3 2 0 3 0 2\n",
    "4 4 3 0 2 3 0 4 3 3 1 1\n",
    "1 1 3 2 0 4 4 3 2 4 4 1\n",
    "2 2 2 4 3 4 3 3 0 4 4 2\n",
    "0 0 4 3 3 4 4 0 3 0 3 3\"\"\""
   ]
  },
  {
   "cell_type": "code",
   "execution_count": 5,
   "metadata": {},
   "outputs": [],
   "source": [
    "inp = inp.strip().splitlines()"
   ]
  },
  {
   "cell_type": "code",
   "execution_count": 6,
   "metadata": {},
   "outputs": [],
   "source": [
    "n,m = inp[0].split(\" \")\n",
    "n = int(n)\n",
    "m = int(m)"
   ]
  },
  {
   "cell_type": "code",
   "execution_count": 7,
   "metadata": {},
   "outputs": [],
   "source": [
    "break_position = inp.index(\"-\")"
   ]
  },
  {
   "cell_type": "code",
   "execution_count": 8,
   "metadata": {},
   "outputs": [],
   "source": [
    "down = [[int(w) for w in line.split(\" \")] for line in inp[1:break_position]]"
   ]
  },
  {
   "cell_type": "code",
   "execution_count": 9,
   "metadata": {},
   "outputs": [],
   "source": [
    "down = np.array(down)"
   ]
  },
  {
   "cell_type": "code",
   "execution_count": 10,
   "metadata": {},
   "outputs": [],
   "source": [
    "right = [[int(w) for w in line.split(\" \")] for line in inp[break_position + 1:]]\n",
    "right = np.array(right)"
   ]
  },
  {
   "cell_type": "code",
   "execution_count": 11,
   "metadata": {},
   "outputs": [
    {
     "name": "stdout",
     "output_type": "stream",
     "text": [
      "down\n",
      " [[0 0 2 4 4 4 1 1 4 0 0 3 3]\n",
      " [2 0 2 0 0 3 2 1 3 1 3 4 0]\n",
      " [1 3 1 3 0 3 0 0 4 3 3 3 0]\n",
      " [0 2 4 1 1 4 1 1 0 2 3 4 0]\n",
      " [1 3 1 3 2 0 0 0 3 1 0 4 2]\n",
      " [3 1 2 4 3 1 2 2 3 0 4 0 3]\n",
      " [3 1 4 0 0 1 2 2 4 3 4 4 3]\n",
      " [2 1 3 3 1 3 0 1 0 0 2 1 1]\n",
      " [0 2 1 1 3 1 2 2 0 3 4 0 3]\n",
      " [1 0 2 1 2 1 2 3 3 2 3 0 4]]\n",
      "right\n",
      " [[0 4 4 0 2 0 1 2 3 4 4 1]\n",
      " [2 1 0 1 0 0 3 4 4 2 2 3]\n",
      " [2 1 0 1 3 4 4 2 4 1 4 4]\n",
      " [1 1 3 4 4 3 2 1 3 2 2 0]\n",
      " [2 2 3 3 1 0 0 3 1 1 2 4]\n",
      " [3 1 0 1 4 1 2 3 2 1 2 0]\n",
      " [2 2 2 4 1 0 3 2 0 3 0 2]\n",
      " [4 4 3 0 2 3 0 4 3 3 1 1]\n",
      " [1 1 3 2 0 4 4 3 2 4 4 1]\n",
      " [2 2 2 4 3 4 3 3 0 4 4 2]\n",
      " [0 0 4 3 3 4 4 0 3 0 3 3]]\n"
     ]
    }
   ],
   "source": [
    "print(\"down\\n\",  down)\n",
    "print(\"right\\n\", right)"
   ]
  },
  {
   "cell_type": "code",
   "execution_count": 12,
   "metadata": {},
   "outputs": [],
   "source": [
    "def manhattan_tourist(n,m, down, right):\n",
    "    s = np.zeros([n+1, m+1])\n",
    "    for i in range(1,n+1):\n",
    "        s[i][0] = s[i-1][0] + down[i-1][0]\n",
    "    for j in range(1,m+1):\n",
    "        s[0][j] = s[0][j-1] + right[0][j-1]\n",
    "    for i in range(1, n+1):\n",
    "        for j in range(1, m+1):\n",
    "            s[i][j] = max(s[i-1][j] + down[i-1][j], s[i][j-1] + right[i][j-1])\n",
    "    return int(s[n][m])"
   ]
  },
  {
   "cell_type": "code",
   "execution_count": 13,
   "metadata": {},
   "outputs": [
    {
     "data": {
      "text/plain": [
       "64"
      ]
     },
     "execution_count": 13,
     "metadata": {},
     "output_type": "execute_result"
    }
   ],
   "source": [
    "manhattan_tourist(n,m,down,right)"
   ]
  },
  {
   "cell_type": "markdown",
   "metadata": {},
   "source": [
    "```r\n",
    " LCSBackTrack(v, w)\n",
    "        for i ← 0 to |v|\n",
    "            si, 0 ← 0\n",
    "        for j ← 0 to |w| \n",
    "            s0, j ← 0\n",
    "        for i ← 1 to |v|\n",
    "            for j ← 1 to |w|\n",
    "                match ← 0\n",
    "                if vi-1 = wj-1\n",
    "                    match ← 1\n",
    "                si, j ← max{si-1, j , si,j-1 , si-1, j-1 + match }\n",
    "                if si,j = si-1,j\n",
    "                    Backtracki, j ← \"↓\"\n",
    "                else if si, j = si, j-1\n",
    "                    Backtracki, j ← \"→\"\n",
    "                else if si, j = si-1, j-1 + match\n",
    "                    Backtracki, j ← \"↘\"\n",
    "        return Backtrack\n",
    "```"
   ]
  },
  {
   "cell_type": "code",
   "execution_count": 14,
   "metadata": {},
   "outputs": [],
   "source": [
    "def lcs_backtrack(v,w):\n",
    "    s = np.zeros([len(v)+1, len(w)+1])\n",
    "    backtrack = np.zeros([len(v)+1, len(w)+1])\n",
    "    backtrack = [list(i) for i in backtrack]\n",
    "    for i in range(1,len(v)+1):\n",
    "        for j in range(1, len(w)+1):\n",
    "            match = 0\n",
    "            if v[i-1] == w[j-1]:\n",
    "                match = 1\n",
    "            s[i][j] = max(s[i-1][j], \n",
    "                          s[i][j-1], \n",
    "                          s[i-1][j-1] + match)\n",
    "            if s[i][j] == s[i-1][j]:\n",
    "                backtrack[i][j] = \"down\"\n",
    "            elif s[i][j] == s[i][j-1]:\n",
    "                backtrack[i][j] = \"right\"\n",
    "            elif s[i][j] == s[i-1][j-1] + match:\n",
    "                backtrack[i][j] = \"diag\"\n",
    "    return backtrack\n",
    "\n",
    "def output_lcs(backtrack, v, i, j):\n",
    "    if i == 0 or j == 0:\n",
    "        return \"\"\n",
    "    if backtrack[i][j] == \"down\":\n",
    "        return output_lcs(backtrack, v, i-1, j)\n",
    "    elif backtrack[i][j] == \"right\":\n",
    "        return output_lcs(backtrack, v, i, j-1)\n",
    "    elif backtrack[i][j] == \"diag\":\n",
    "        return output_lcs(backtrack, v, i-1, j-1) + v[i-1]"
   ]
  },
  {
   "cell_type": "code",
   "execution_count": 20,
   "metadata": {},
   "outputs": [],
   "source": [
    "v = \"AGACTG\"\n",
    "w = \"GTACGA\""
   ]
  },
  {
   "cell_type": "code",
   "execution_count": 21,
   "metadata": {},
   "outputs": [],
   "source": [
    "backtrack = lcs_backtrack(v,w)"
   ]
  },
  {
   "cell_type": "code",
   "execution_count": 22,
   "metadata": {},
   "outputs": [
    {
     "data": {
      "text/plain": [
       "'GACG'"
      ]
     },
     "execution_count": 22,
     "metadata": {},
     "output_type": "execute_result"
    }
   ],
   "source": [
    "output_lcs(backtrack, v, len(v), len(w))"
   ]
  },
  {
   "cell_type": "code",
   "execution_count": 18,
   "metadata": {
    "scrolled": true
   },
   "outputs": [
    {
     "data": {
      "text/plain": [
       "6"
      ]
     },
     "execution_count": 18,
     "metadata": {},
     "output_type": "execute_result"
    }
   ],
   "source": [
    "len(v)"
   ]
  },
  {
   "cell_type": "code",
   "execution_count": null,
   "metadata": {},
   "outputs": [],
   "source": []
  }
 ],
 "metadata": {
  "kernelspec": {
   "display_name": "Python 3",
   "language": "python",
   "name": "python3"
  },
  "language_info": {
   "codemirror_mode": {
    "name": "ipython",
    "version": 3
   },
   "file_extension": ".py",
   "mimetype": "text/x-python",
   "name": "python",
   "nbconvert_exporter": "python",
   "pygments_lexer": "ipython3",
   "version": "3.7.1"
  }
 },
 "nbformat": 4,
 "nbformat_minor": 2
}
