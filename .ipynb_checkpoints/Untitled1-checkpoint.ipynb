{
 "cells": [
  {
   "cell_type": "code",
   "execution_count": 1,
   "metadata": {},
   "outputs": [],
   "source": [
    "import numpy as np\n",
    "import copy\n",
    "import bioinfo3"
   ]
  },
  {
   "cell_type": "markdown",
   "metadata": {},
   "source": [
    "```r\n",
    "2-BreakOnGenomeGraph(GenomeGraph, i1 , i2 , i3 , i4)\n",
    "     remove colored edges (i1, i2) and (i3, i4) from GenomeGraph\n",
    "     add colored edges (i1, i3) and (i2, i4) to GenomeGraph\n",
    "     return GenomeGraph\n",
    "```"
   ]
  },
  {
   "cell_type": "code",
   "execution_count": 2,
   "metadata": {},
   "outputs": [],
   "source": [
    "def two_breaks_on_gg(gg, i1, i2, i3, i4):\n",
    "    gg = copy.deepcopy(gg)\n",
    "    if type(gg) == str:\n",
    "        gg = bioinfo3.parse_edges(gg)\n",
    "    try:\n",
    "        gg.remove((i1,i2))\n",
    "    except:\n",
    "        gg.remove((i2,i1))\n",
    "    try:\n",
    "        gg.remove((i3,i4))\n",
    "    except:\n",
    "        gg.remove((i4,i3))\n",
    "    gg.append((i1,i3))\n",
    "    gg.append((i2,i4))\n",
    "    return gg"
   ]
  },
  {
   "cell_type": "code",
   "execution_count": 28,
   "metadata": {
    "scrolled": true
   },
   "outputs": [
    {
     "data": {
      "text/plain": [
       "[(2, 4), (3, 8), (7, 5), (6, 1)]"
      ]
     },
     "execution_count": 28,
     "metadata": {},
     "output_type": "execute_result"
    }
   ],
   "source": [
    "gg = \"\"\"(2, 4), (3, 8), (7, 5), (6, 1)\n",
    "\"\"\"\n",
    "gg = bioinfo3.parse_edges(gg)\n",
    "gg"
   ]
  },
  {
   "cell_type": "code",
   "execution_count": 31,
   "metadata": {},
   "outputs": [
    {
     "data": {
      "text/plain": [
       "[[1, -2, -4, 3]]"
      ]
     },
     "execution_count": 31,
     "metadata": {},
     "output_type": "execute_result"
    }
   ],
   "source": [
    "bioinfo3.graph_to_genome(gg)"
   ]
  },
  {
   "cell_type": "code",
   "execution_count": 33,
   "metadata": {},
   "outputs": [
    {
     "data": {
      "text/plain": [
       "[[(2, 4), (3, 8), (7, 5), (6, 1)]]"
      ]
     },
     "execution_count": 33,
     "metadata": {},
     "output_type": "execute_result"
    }
   ],
   "source": [
    "find_cycle_from_gg(gg)"
   ]
  },
  {
   "cell_type": "code",
   "execution_count": 34,
   "metadata": {
    "scrolled": true
   },
   "outputs": [
    {
     "name": "stdout",
     "output_type": "stream",
     "text": [
      "(+1 -2 -4 +3)"
     ]
    }
   ],
   "source": [
    "bioinfo3.print_genome(bioinfo3.graph_to_genome(gg))"
   ]
  },
  {
   "cell_type": "code",
   "execution_count": 5,
   "metadata": {
    "scrolled": true
   },
   "outputs": [
    {
     "data": {
      "text/plain": [
       "[(2, 4), (7, 5), (1, 3), (6, 8)]"
      ]
     },
     "execution_count": 5,
     "metadata": {},
     "output_type": "execute_result"
    }
   ],
   "source": [
    "new_gg = two_breaks_on_gg(gg,1,6,3,8)\n",
    "new_gg"
   ]
  },
  {
   "cell_type": "code",
   "execution_count": 6,
   "metadata": {},
   "outputs": [
    {
     "name": "stdout",
     "output_type": "stream",
     "text": [
      "(2, 4), (7, 5), (1, 3), (6, 8)\n"
     ]
    }
   ],
   "source": [
    "print(\", \".join(str(i) for i in new_gg))"
   ]
  },
  {
   "cell_type": "code",
   "execution_count": 7,
   "metadata": {},
   "outputs": [
    {
     "data": {
      "text/plain": [
       "[[1, 2, -3], [4]]"
      ]
     },
     "execution_count": 7,
     "metadata": {},
     "output_type": "execute_result"
    }
   ],
   "source": [
    "bioinfo3.graph_to_genome(new_gg)"
   ]
  },
  {
   "cell_type": "code",
   "execution_count": 8,
   "metadata": {
    "scrolled": true
   },
   "outputs": [
    {
     "data": {
      "text/plain": [
       "[[1, -2], [3, -4]]"
      ]
     },
     "execution_count": 8,
     "metadata": {},
     "output_type": "execute_result"
    }
   ],
   "source": [
    "bioinfo3.graph_to_genome([(2, 4), (3, 1), (7, 5), (6, 8)])\n"
   ]
  },
  {
   "cell_type": "code",
   "execution_count": 32,
   "metadata": {},
   "outputs": [],
   "source": [
    "\n",
    "def cycle_to_chromosome(nodes):\n",
    "    #input has format of [1, 2, 4, 3, 6, 5, 7, 8]\n",
    "    chromosome = []\n",
    "    for j in range(0, int(len(nodes)/2)):\n",
    "        if nodes[2*j] < nodes[2*j+1]:\n",
    "            chromosome.append(int(nodes[2*j+1]/2))\n",
    "        else:\n",
    "            chromosome.append(int(-nodes[2*j]/2))\n",
    "    return chromosome\n",
    "\n",
    "def find_cycle_from_gg(gg):\n",
    "    #input has format of [(2, 4), (3, 6), (5, 1)]\n",
    "    cycles = []\n",
    "    gg_copy = copy.deepcopy(gg)\n",
    "    while gg_copy != []:\n",
    "        gg_copy = copy.deepcopy(gg)\n",
    "        start_edge = gg_copy[0]\n",
    "        start_node = min(start_edge)\n",
    "        next_node = start_node\n",
    "        cycle = []\n",
    "        if start_node % 2 == 0:\n",
    "            end_node = start_node - 1\n",
    "        else:\n",
    "            end_node = start_node + 1\n",
    "        for edge in gg:\n",
    "            if next_node in edge:\n",
    "                cycle.append(edge)\n",
    "                gg_copy.remove(edge)\n",
    "                max_node = max(edge)\n",
    "                next_node = max_node - 1 if max_node % 2 == 0 else max_node + 1\n",
    "                if end_node in edge:\n",
    "                    gg = gg_copy\n",
    "                    break\n",
    "            else:\n",
    "                if end_node in edge:\n",
    "                    cycle.append(edge)\n",
    "                    gg_copy.remove(edge)\n",
    "                    max_node = max(edge)\n",
    "                    next_node = max_node - 1 if max_node % 2 == 0 else max_node + 1\n",
    "                    gg = gg_copy\n",
    "                    break                    \n",
    "                pass\n",
    "        cycles.append(cycle)\n",
    "    return cycles\n",
    "\n",
    "def graph_to_genome(gg):\n",
    "    #genome graph is the same as color edges \n",
    "    #genome is the same as permutation\n",
    "    #input has format of [(2, 4), (3, 6), (5, 1)] or \"(2, 4), (3, 6), (5, 1)\"\n",
    "    P = []\n",
    "    if type(gg) == str:\n",
    "        gg = parse_edges(gg)\n",
    "    cycles = find_cycle_from_gg(gg)\n",
    "    for cycle in cycles:\n",
    "        nodes = []\n",
    "        for edge in cycle:\n",
    "            nodes += [edge[0]]\n",
    "            nodes += [edge[1]]\n",
    "        argmin = nodes.index(min(nodes))\n",
    "        nodes = nodes[argmin:] + nodes[:argmin]\n",
    "        if nodes[-1] == nodes[0] + 1:\n",
    "            nodes = [nodes[-1]] + nodes[:-1]\n",
    "        chromosome = cycle_to_chromosome(nodes)\n",
    "        P.append(chromosome)\n",
    "    return P"
   ]
  },
  {
   "cell_type": "code",
   "execution_count": 10,
   "metadata": {},
   "outputs": [
    {
     "data": {
      "text/plain": [
       "[[(2, 4), (1, 3)], [(7, 5), (6, 8)]]"
      ]
     },
     "execution_count": 10,
     "metadata": {},
     "output_type": "execute_result"
    }
   ],
   "source": [
    "gg = [(2, 4), (7, 5), (1, 3), (6, 8)]\n",
    "find_cycle_from_gg(gg)"
   ]
  },
  {
   "cell_type": "code",
   "execution_count": 11,
   "metadata": {},
   "outputs": [
    {
     "data": {
      "text/plain": [
       "[[1, 2], [3, -4]]"
      ]
     },
     "execution_count": 11,
     "metadata": {},
     "output_type": "execute_result"
    }
   ],
   "source": [
    "graph_to_genome(gg)"
   ]
  },
  {
   "cell_type": "code",
   "execution_count": 12,
   "metadata": {},
   "outputs": [],
   "source": [
    "gg = \"\"\"(2, 4), (3, 8), (7, 5), (6, 1)\n",
    "\"\"\"\n",
    "gg = bioinfo3.parse_edges(gg)"
   ]
  },
  {
   "cell_type": "code",
   "execution_count": 37,
   "metadata": {},
   "outputs": [],
   "source": [
    "P = \"\"\"(-1 +2 -3 +4 +5 -6 +7 -8 +9 -10 -11 +12 +13 -14 -15 +16 +17 -18 -19 +20 +21 -22 +23 -24 -25 -26 -27 +28 -29 -30 +31 -32 +33 -34 -35 +36 -37 +38 +39 +40 -41 -42 -43 +44 +45 -46 +47 +48 -49 +50 -51 -52 +53 +54 -55 +56 +57 -58 +59 +60 -61 +62 -63 -64 +65 +66 +67)\n",
    "\"\"\"\n",
    "P = bioinfo3.parse_permutation(P)"
   ]
  },
  {
   "cell_type": "code",
   "execution_count": 38,
   "metadata": {
    "scrolled": true
   },
   "outputs": [
    {
     "data": {
      "text/plain": [
       "[[-1,\n",
       "  2,\n",
       "  -3,\n",
       "  4,\n",
       "  5,\n",
       "  -6,\n",
       "  7,\n",
       "  -8,\n",
       "  9,\n",
       "  -10,\n",
       "  -11,\n",
       "  12,\n",
       "  13,\n",
       "  -14,\n",
       "  -15,\n",
       "  16,\n",
       "  17,\n",
       "  -18,\n",
       "  -19,\n",
       "  20,\n",
       "  21,\n",
       "  -22,\n",
       "  23,\n",
       "  -24,\n",
       "  -25,\n",
       "  -26,\n",
       "  -27,\n",
       "  28,\n",
       "  -29,\n",
       "  -30,\n",
       "  31,\n",
       "  -32,\n",
       "  33,\n",
       "  -34,\n",
       "  -35,\n",
       "  36,\n",
       "  -37,\n",
       "  38,\n",
       "  39,\n",
       "  40,\n",
       "  -41,\n",
       "  -42,\n",
       "  -43,\n",
       "  44,\n",
       "  45,\n",
       "  -46,\n",
       "  47,\n",
       "  48,\n",
       "  -49,\n",
       "  50,\n",
       "  -51,\n",
       "  -52,\n",
       "  53,\n",
       "  54,\n",
       "  -55,\n",
       "  56,\n",
       "  57,\n",
       "  -58,\n",
       "  59,\n",
       "  60,\n",
       "  -61,\n",
       "  62,\n",
       "  -63,\n",
       "  -64,\n",
       "  65,\n",
       "  66,\n",
       "  67]]"
      ]
     },
     "execution_count": 38,
     "metadata": {},
     "output_type": "execute_result"
    }
   ],
   "source": [
    "P"
   ]
  },
  {
   "cell_type": "code",
   "execution_count": 39,
   "metadata": {
    "scrolled": true
   },
   "outputs": [
    {
     "data": {
      "text/plain": [
       "[(1, 3),\n",
       " (4, 6),\n",
       " (5, 7),\n",
       " (8, 9),\n",
       " (10, 12),\n",
       " (11, 13),\n",
       " (14, 16),\n",
       " (15, 17),\n",
       " (18, 20),\n",
       " (19, 22),\n",
       " (21, 23),\n",
       " (24, 25),\n",
       " (26, 28),\n",
       " (27, 30),\n",
       " (29, 31),\n",
       " (32, 33),\n",
       " (34, 36),\n",
       " (35, 38),\n",
       " (37, 39),\n",
       " (40, 41),\n",
       " (42, 44),\n",
       " (43, 45),\n",
       " (46, 48),\n",
       " (47, 50),\n",
       " (49, 52),\n",
       " (51, 54),\n",
       " (53, 55),\n",
       " (56, 58),\n",
       " (57, 60),\n",
       " (59, 61),\n",
       " (62, 64),\n",
       " (63, 65),\n",
       " (66, 68),\n",
       " (67, 70),\n",
       " (69, 71),\n",
       " (72, 74),\n",
       " (73, 75),\n",
       " (76, 77),\n",
       " (78, 79),\n",
       " (80, 82),\n",
       " (81, 84),\n",
       " (83, 86),\n",
       " (85, 87),\n",
       " (88, 89),\n",
       " (90, 92),\n",
       " (91, 93),\n",
       " (94, 95),\n",
       " (96, 98),\n",
       " (97, 99),\n",
       " (100, 102),\n",
       " (101, 104),\n",
       " (103, 105),\n",
       " (106, 107),\n",
       " (108, 110),\n",
       " (109, 111),\n",
       " (112, 113),\n",
       " (114, 116),\n",
       " (115, 117),\n",
       " (118, 119),\n",
       " (120, 122),\n",
       " (121, 123),\n",
       " (124, 126),\n",
       " (125, 128),\n",
       " (127, 129),\n",
       " (130, 131),\n",
       " (132, 133),\n",
       " (134, 2)]"
      ]
     },
     "execution_count": 39,
     "metadata": {},
     "output_type": "execute_result"
    }
   ],
   "source": [
    "gg = bioinfo3.color_edges(P)\n",
    "gg"
   ]
  },
  {
   "cell_type": "code",
   "execution_count": 40,
   "metadata": {
    "scrolled": true
   },
   "outputs": [],
   "source": [
    "new_gg = two_breaks_on_gg(gg, 30,27,83,86)"
   ]
  },
  {
   "cell_type": "code",
   "execution_count": 35,
   "metadata": {
    "scrolled": true
   },
   "outputs": [
    {
     "data": {
      "text/plain": [
       "[[(1, 3), (135, 2)],\n",
       " [(6, 7),\n",
       "  (8, 10),\n",
       "  (9, 12),\n",
       "  (11, 13),\n",
       "  (14, 15),\n",
       "  (16, 17),\n",
       "  (18, 19),\n",
       "  (20, 22),\n",
       "  (21, 23),\n",
       "  (24, 26),\n",
       "  (25, 27),\n",
       "  (28, 30),\n",
       "  (29, 32),\n",
       "  (31, 33),\n",
       "  (34, 35),\n",
       "  (36, 38),\n",
       "  (37, 39),\n",
       "  (40, 41),\n",
       "  (42, 44),\n",
       "  (43, 46),\n",
       "  (45, 47),\n",
       "  (48, 5)],\n",
       " [(49, 52),\n",
       "  (51, 53),\n",
       "  (54, 56),\n",
       "  (55, 58),\n",
       "  (57, 60),\n",
       "  (59, 62),\n",
       "  (61, 63),\n",
       "  (64, 66),\n",
       "  (65, 68),\n",
       "  (67, 69),\n",
       "  (70, 71),\n",
       "  (72, 74),\n",
       "  (73, 76),\n",
       "  (75, 78),\n",
       "  (77, 79),\n",
       "  (80, 81),\n",
       "  (82, 84),\n",
       "  (83, 86),\n",
       "  (85, 88),\n",
       "  (87, 90),\n",
       "  (89, 91),\n",
       "  (92, 93),\n",
       "  (94, 95),\n",
       "  (96, 97),\n",
       "  (98, 99),\n",
       "  (100, 101),\n",
       "  (102, 104),\n",
       "  (103, 105),\n",
       "  (106, 107),\n",
       "  (108, 110),\n",
       "  (109, 112),\n",
       "  (111, 113),\n",
       "  (114, 115),\n",
       "  (116, 117),\n",
       "  (118, 120),\n",
       "  (119, 122),\n",
       "  (121, 123),\n",
       "  (124, 126),\n",
       "  (125, 127),\n",
       "  (128, 129),\n",
       "  (130, 131),\n",
       "  (132, 133),\n",
       "  (134, 136),\n",
       "  (50, 4)]]"
      ]
     },
     "execution_count": 35,
     "metadata": {},
     "output_type": "execute_result"
    }
   ],
   "source": [
    "find_cycle_from_gg(new_gg)"
   ]
  },
  {
   "cell_type": "code",
   "execution_count": 42,
   "metadata": {},
   "outputs": [],
   "source": [
    "new_genome = graph_to_genome(new_gg)"
   ]
  },
  {
   "cell_type": "code",
   "execution_count": 43,
   "metadata": {},
   "outputs": [
    {
     "name": "stdout",
     "output_type": "stream",
     "text": [
      "(-1 +2 -3 +4 +5 -6 +7 -8 +9 -10 -11 +12 +13 +67)(+15 +16 +18 +19 +19 +20 +22 +22 +24 +25 +26 +27 +27 +29 +30 +30 +32 +32 +34 +35 +35 +37 +37 +38 +39 +41 +42 +41)(+43 +43 +44 +46 +46 +47 +49 +49 +51 +52 +52 +53 +55 +55 +56 +58 +58 +59 +61 +61 +63 +64 +64 +65 +66)"
     ]
    }
   ],
   "source": [
    "bioinfo3.print_genome(new_genome)"
   ]
  },
  {
   "cell_type": "code",
   "execution_count": null,
   "metadata": {},
   "outputs": [],
   "source": []
  }
 ],
 "metadata": {
  "kernelspec": {
   "display_name": "Python 3",
   "language": "python",
   "name": "python3"
  },
  "language_info": {
   "codemirror_mode": {
    "name": "ipython",
    "version": 3
   },
   "file_extension": ".py",
   "mimetype": "text/x-python",
   "name": "python",
   "nbconvert_exporter": "python",
   "pygments_lexer": "ipython3",
   "version": "3.7.1"
  }
 },
 "nbformat": 4,
 "nbformat_minor": 2
}
