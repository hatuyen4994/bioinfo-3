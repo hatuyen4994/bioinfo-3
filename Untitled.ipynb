{
 "cells": [
  {
   "cell_type": "code",
   "execution_count": 1,
   "metadata": {},
   "outputs": [],
   "source": [
    "import numpy as np"
   ]
  },
  {
   "cell_type": "code",
   "execution_count": 2,
   "metadata": {},
   "outputs": [],
   "source": [
    "blosum62 = {'A': {'A': 4, 'C': 0, 'E': -1, 'D': -2, 'G': 0, 'F': -2, 'I': -1, 'H': -2, 'K': -1, 'M': -1, 'L': -1, 'N': -2, 'Q': -1, 'P': -1, 'S': 1, 'R': -1, 'T': 0, 'W': -3, 'V': 0, 'Y': -2}, 'C': {'A': 0, 'C': 9, 'E': -4, 'D': -3, 'G': -3, 'F': -2, 'I': -1, 'H': -3, 'K': -3, 'M': -1, 'L': -1, 'N': -3, 'Q': -3, 'P': -3, 'S': -1, 'R': -3, 'T': -1, 'W': -2, 'V': -1, 'Y': -2}, 'E': {'A': -1, 'C': -4, 'E': 5, 'D': 2, 'G': -2, 'F': -3, 'I': -3, 'H': 0, 'K': 1, 'M': -2, 'L': -3, 'N': 0, 'Q': 2, 'P': -1, 'S': 0, 'R': 0, 'T': -1, 'W': -3, 'V': -2, 'Y': -2}, 'D': {'A': -2, 'C': -3, 'E': 2, 'D': 6, 'G': -1, 'F': -3, 'I': -3, 'H': -1, 'K': -1, 'M': -3, 'L': -4, 'N': 1, 'Q': 0, 'P': -1, 'S': 0, 'R': -2, 'T': -1, 'W': -4, 'V': -3, 'Y': -3}, 'G': {'A': 0, 'C': -3, 'E': -2, 'D': -1, 'G': 6, 'F': -3, 'I': -4, 'H': -2, 'K': -2, 'M': -3, 'L': -4, 'N': 0, 'Q': -2, 'P': -2, 'S': 0, 'R': -2, 'T': -2, 'W': -2, 'V': -3, 'Y': -3}, 'F': {'A': -2, 'C': -2, 'E': -3, 'D': -3, 'G': -3, 'F': 6, 'I': 0, 'H': -1, 'K': -3, 'M': 0, 'L': 0, 'N': -3, 'Q': -3, 'P': -4, 'S': -2, 'R': -3, 'T': -2, 'W': 1, 'V': -1, 'Y': 3}, 'I': {'A': -1, 'C': -1, 'E': -3, 'D': -3, 'G': -4, 'F': 0, 'I': 4, 'H': -3, 'K': -3, 'M': 1, 'L': 2, 'N': -3, 'Q': -3, 'P': -3, 'S': -2, 'R': -3, 'T': -1, 'W': -3, 'V': 3, 'Y': -1}, 'H': {'A': -2, 'C': -3, 'E': 0, 'D': -1, 'G': -2, 'F': -1, 'I': -3, 'H': 8, 'K': -1, 'M': -2, 'L': -3, 'N': 1, 'Q': 0, 'P': -2, 'S': -1, 'R': 0, 'T': -2, 'W': -2, 'V': -3, 'Y': 2}, 'K': {'A': -1, 'C': -3, 'E': 1, 'D': -1, 'G': -2, 'F': -3, 'I': -3, 'H': -1, 'K': 5, 'M': -1, 'L': -2, 'N': 0, 'Q': 1, 'P': -1, 'S': 0, 'R': 2, 'T': -1, 'W': -3, 'V': -2, 'Y': -2}, 'M': {'A': -1, 'C': -1, 'E': -2, 'D': -3, 'G': -3, 'F': 0, 'I': 1, 'H': -2, 'K': -1, 'M': 5, 'L': 2, 'N': -2, 'Q': 0, 'P': -2, 'S': -1, 'R': -1, 'T': -1, 'W': -1, 'V': 1, 'Y': -1}, 'L': {'A': -1, 'C': -1, 'E': -3, 'D': -4, 'G': -4, 'F': 0, 'I': 2, 'H': -3, 'K': -2, 'M': 2, 'L': 4, 'N': -3, 'Q': -2, 'P': -3, 'S': -2, 'R': -2, 'T': -1, 'W': -2, 'V': 1, 'Y': -1}, 'N': {'A': -2, 'C': -3, 'E': 0, 'D': 1, 'G': 0, 'F': -3, 'I': -3, 'H': 1, 'K': 0, 'M': -2, 'L': -3, 'N': 6, 'Q': 0, 'P': -2, 'S': 1, 'R': 0, 'T': 0, 'W': -4, 'V': -3, 'Y': -2}, 'Q': {'A': -1, 'C': -3, 'E': 2, 'D': 0, 'G': -2, 'F': -3, 'I': -3, 'H': 0, 'K': 1, 'M': 0, 'L': -2, 'N': 0, 'Q': 5, 'P': -1, 'S': 0, 'R': 1, 'T': -1, 'W': -2, 'V': -2, 'Y': -1}, 'P': {'A': -1, 'C': -3, 'E': -1, 'D': -1, 'G': -2, 'F': -4, 'I': -3, 'H': -2, 'K': -1, 'M': -2, 'L': -3, 'N': -2, 'Q': -1, 'P': 7, 'S': -1, 'R': -2, 'T': -1, 'W': -4, 'V': -2, 'Y': -3}, 'S': {'A': 1, 'C': -1, 'E': 0, 'D': 0, 'G': 0, 'F': -2, 'I': -2, 'H': -1, 'K': 0, 'M': -1, 'L': -2, 'N': 1, 'Q': 0, 'P': -1, 'S': 4, 'R': -1, 'T': 1, 'W': -3, 'V': -2, 'Y': -2}, 'R': {'A': -1, 'C': -3, 'E': 0, 'D': -2, 'G': -2, 'F': -3, 'I': -3, 'H': 0, 'K': 2, 'M': -1, 'L': -2, 'N': 0, 'Q': 1, 'P': -2, 'S': -1, 'R': 5, 'T': -1, 'W': -3, 'V': -3, 'Y': -2}, 'T': {'A': 0, 'C': -1, 'E': -1, 'D': -1, 'G': -2, 'F': -2, 'I': -1, 'H': -2, 'K': -1, 'M': -1, 'L': -1, 'N': 0, 'Q': -1, 'P': -1, 'S': 1, 'R': -1, 'T': 5, 'W': -2, 'V': 0, 'Y': -2}, 'W': {'A': -3, 'C': -2, 'E': -3, 'D': -4, 'G': -2, 'F': 1, 'I': -3, 'H': -2, 'K': -3, 'M': -1, 'L': -2, 'N': -4, 'Q': -2, 'P': -4, 'S': -3, 'R': -3, 'T': -2, 'W': 11, 'V': -3, 'Y': 2}, 'V': {'A': 0, 'C': -1, 'E': -2, 'D': -3, 'G': -3, 'F': -1, 'I': 3, 'H': -3, 'K': -2, 'M': 1, 'L': 1, 'N': -3, 'Q': -2, 'P': -2, 'S': -2, 'R': -3, 'T': 0, 'W': -3, 'V': 4, 'Y': -1}, 'Y': {'A': -2, 'C': -2, 'E': -2, 'D': -3, 'G': -3, 'F': 3, 'I': -1, 'H': 2, 'K': -2, 'M': -1, 'L': -1, 'N': -2, 'Q': -1, 'P': -3, 'S': -2, 'R': -2, 'T': -2, 'W': 2, 'V': -1, 'Y': 7}}\n",
    "\n"
   ]
  },
  {
   "cell_type": "code",
   "execution_count": 3,
   "metadata": {},
   "outputs": [
    {
     "data": {
      "text/plain": [
       "{'A': 4,\n",
       " 'C': 0,\n",
       " 'E': -1,\n",
       " 'D': -2,\n",
       " 'G': 0,\n",
       " 'F': -2,\n",
       " 'I': -1,\n",
       " 'H': -2,\n",
       " 'K': -1,\n",
       " 'M': -1,\n",
       " 'L': -1,\n",
       " 'N': -2,\n",
       " 'Q': -1,\n",
       " 'P': -1,\n",
       " 'S': 1,\n",
       " 'R': -1,\n",
       " 'T': 0,\n",
       " 'W': -3,\n",
       " 'V': 0,\n",
       " 'Y': -2}"
      ]
     },
     "execution_count": 3,
     "metadata": {},
     "output_type": "execute_result"
    }
   ],
   "source": [
    "blosum62[\"A\"]"
   ]
  },
  {
   "cell_type": "code",
   "execution_count": 41,
   "metadata": {},
   "outputs": [],
   "source": [
    "def lcs_backtrack(v,w,matrix):\n",
    "    s = np.zeros([len(v)+1, len(w)+1])\n",
    "    for i in range(len(v)+1):\n",
    "        s[i,0] = -5 * i\n",
    "    for j in range(len(w)+1):\n",
    "        s[0,j] = -5 * j    \n",
    "    backtrack = np.zeros([len(v)+1, len(w)+1])\n",
    "    backtrack = [list(i) for i in backtrack]\n",
    "    for i in range(1,len(v)+1):\n",
    "        for j in range(1, len(w)+1):\n",
    "            score = matrix[v[i-1]][w[j-1]]\n",
    "            s[i][j] = max(s[i-1][j] - 5, \n",
    "                          s[i][j-1] - 5, \n",
    "                          s[i-1][j-1] + score)\n",
    "            if s[i][j] == s[i-1][j] - 5:\n",
    "                backtrack[i][j] = \"down\"\n",
    "            elif s[i][j] == s[i][j-1] - 5:\n",
    "                backtrack[i][j] = \"right\"\n",
    "            elif s[i][j] == s[i-1][j-1] + score:\n",
    "                backtrack[i][j] = \"diag\"\n",
    "    return backtrack,s\n",
    "\n",
    "def output_lcs_v(backtrack, v, i, j):\n",
    "    if i == 0 and j == 0:\n",
    "        return \"\"\n",
    "    elif i == 1 and j == 0:\n",
    "        return v[i-1]\n",
    "    elif i == 0 and j == 1:\n",
    "        return \"-\"\n",
    "    \n",
    "    if backtrack[i][j] == \"down\":\n",
    "        return output_lcs_v(backtrack, v, i-1, j) + v[i-1]\n",
    "    elif backtrack[i][j] == \"right\":\n",
    "        return output_lcs_v(backtrack, v, i, j-1) + \"-\"\n",
    "    elif backtrack[i][j] == \"diag\":\n",
    "        return output_lcs_v(backtrack, v, i-1, j-1) + v[i-1]\n",
    "    \n",
    "def output_lcs_w(backtrack, w, i, j):\n",
    "    if i == 0 and j == 0:\n",
    "        return \"\"\n",
    "    elif i == 1 and j == 0:\n",
    "        return \"-\"\n",
    "    elif i == 0 and j == 1:\n",
    "        return w[j-1]\n",
    "    if backtrack[i][j] == \"down\":\n",
    "        return output_lcs_w(backtrack, w, i-1, j) + \"-\"\n",
    "    elif backtrack[i][j] == \"right\":\n",
    "        return output_lcs_w(backtrack, w, i, j-1) + w[j-1]\n",
    "    elif backtrack[i][j] == \"diag\":\n",
    "        return output_lcs_w(backtrack, w, i-1, j-1) + w[j-1]"
   ]
  },
  {
   "cell_type": "code",
   "execution_count": 44,
   "metadata": {},
   "outputs": [],
   "source": [
    "v = \"GENFLETYFAFHARSPKLLYMMLCGHTPWMTDCEEEFLENEQFGHHWAGIKNPSYDEACLWWNTIFERNYIWNDMACEEGCEWNNMGGRGKTSVTHTSHARCKPIEDGKIDQRQDYRWMHHGDIINDHNIVTYINILWFGDWVFYEMRWSFEDCFEGRRINMRVMNKRLIAKELYDRTDGVFTQPTVNSSPDKACAIACCCYGYSKGYWIMGISLAISPYWCGNCHQWIHSMTGTQTQNQQLNVYEIKFSHDYCWEDSDLIYGMGSNCLWVCDQRKYSDQECHFMRVLLCIWSFIQRFHDCGNWENYWRCVDTNFDNSDPNHDRLRAESNTIRKGGDWLAARHPGGKHIFCEWTWECKHNRGYCNMKNWRGGCRDIVLMWDMTNAGKSLKMVYTVYRSNEVENTKMSLMCQGVFDADYGKVFSHYPWHHSYKHDDFPCFSDKWRVSSEGSGLKMDTTLIWSFMFESNTYQQKRSAKHNKCTGLKYCTKQPFSNKPFTHNCCKMQKYQFTCFAIRPMCNTCDKIGCKETQGMWCFCYHEYPLLHCFKTDEIAGHIWASNGARYLLDNIDLQEYIMKSSTLRIPTWPCIISWAKGIQCFYDIKMLLVSYADCIAEDYIGGHFKTRNSEIDEGYMAGEFEPQNDVTMEKVLKRIMQKKFEQLVLNPQPYPYFGQTFYSNPIICHRYWYVAHIWRVWLNSAAKSYWLIQADRHKCIPGDRHIYLWVARELDCNAVWFGCHHYYKFYRQRVQFGCNVCRKYQAKPWQALTTSSDYIWWYEVGFQIQKKEMITMEGCRRLALDMKAQDTSAPHMYVGDWHPYAYTFFGNKKINGRMLENARARRFQLRKIIFMSVSSAGKGWNDLGQNLGFCHTKHKDCSWMMWATTH\"\n",
    "w = \"GECVLFLEGWSHGHFDFAFHRSAKLYYEMLCGHCEEEFLENEAFGELNPYLNHWAGIKNPSYIEARVSDGRAGTLSINERNYIWNEEGCEWNNMGGRGKTSVTHTSHARCQPIEDGKIRQHYRWMLHGFIILDHNIVTHINIGERICLFMNHFGDWVCMHNGGYEMRWCFEDCFEGRRINMRVMNKRLIAKELYYRTDGVFTMRCSISLPVVNSSPDKACAIAYGYMVAFAEATYWIMLISLCIDWIHSMTGTQTQNQQLNVYAIKFSHDTQCWEDSDLYYMYRSQGENCLWVCDQRKYSDQECHFIHHGDTCMDSWIQRHYQQQHDCGNWENYGMPKNWYNSDPNHWPDPHRGGDWLMARHPGGKHKLVEAWFCWECHFTSKPWVHWIQCMNNRGYCWMDKNWRGGSYRDIMLMWDMYNAGKSLKMVYTVYRSNEVENPDFKMCLMCRKTDDFDKVKCKQNIHDHEQQGKVFSHHSYLMQKGHCFSDKWRVSSEGSPTTLIWSFMIESTYQQYMNLHRNRSAKSQNATKYCTKQLAYAPALQTCFWTCIEEFLEIRPMCGCKATYDKTFTYHEYPLLHCFKTDEIAVCVFWGYRCTIWASNIDLQEYIMKSGLATFTLRDPTWPCIISWAKGIQCFYDDKMKLVSYGDIQQATRNSEIDEGYMAPHRHMPTEFEPQNFVSQTALHYMEKVLKRIFEQLCLMPQPYPYFGQIFYSNPNIRYMEQCIWRVWLNSAAKSYWICYPYATQVIQADHHCCWTQMDPYLWVARDLDLSLGNAVWFGPKHHHYYFFYRQRVQFGCNVCRKKPWQFWQTTVSDIWWYEIPGDGFQIQEPKNCRRNCRIVQDSIVSAPHMYVYTFFSNLENARARRFQLRKIIFMRVSSAGKGWNDLGQNLGFPNHTKHKDCSWMMWATTH\""
   ]
  },
  {
   "cell_type": "code",
   "execution_count": 45,
   "metadata": {
    "scrolled": true
   },
   "outputs": [],
   "source": [
    "backtrack,s = lcs_backtrack(v,w,blosum62)"
   ]
  },
  {
   "cell_type": "code",
   "execution_count": 66,
   "metadata": {},
   "outputs": [
    {
     "name": "stdout",
     "output_type": "stream",
     "text": [
      "2346.0\n",
      "GEN--FLE--T---Y-FAFHARSPKLLYMMLCGHTPWMTDCEEEFLENEQFG----H--HWAGIKNPSYDEACLW-WN--TI-F-ERNYIWNDMACEEGCEWNNMGGRGKTSVTHTSHARCKPIEDGKIDQRQDYRWMHHGDIINDHNIVTYINI-----LW---FGDWV-F----YEMRWSFEDCFEGRRINMRVMNKRLIAKELYDRTDGVFT-Q-----PTVNSSPDKACAIAC-CCYGYSKG-YWIMGISLAISPYWCGNCHQWIHSMTGTQTQNQQLNVYEIKFSHD-YCWEDSDL--IY-GMGSNCLWVCDQRKYSDQECHFMRVL-LCIWSFIQR-F---HDCGNWENYWRCVDTNFDNSDPNHDRLRAESNTIRKGGDWLAARHPGGKH--I---FC-E-------WT-W-ECKHNRGYCNM-KNWRGGC-RDIVLMWDMTNAGKSLKMVYTVYRSNEVENT--KMSLMCQGVFDAD-YG-K--VFSH-YP---W-HHSYKHDDFPCFSDKWRVSSEGSGLKMDTTLIWSFMFESNTYQQKRSAKHN---KC-TGLKYCTKQPFSNKPFTHNCCKMQKYQFTCFAIRPMCNTCDKIGCKETQGMWCFCYHEYPLLHCFKTDEIAGHI-WASNGARYLLDNIDLQEYIMKS--ST--LRIPTWPCIISWAKGIQCFYDIKMLLVSYADCIAEDYIGGHFKTRNSEIDEGYMAG------EFEPQNDVTMEKV--LKRIMQKKFEQLVLNPQPYPYFGQTFYSNPIICHRYWYVAHIWRVWLNSAAKSYWL--------IQADRHKCIPGDRHIYLWVARELDC---NAVWFGC-HH-YYKFYRQRVQFGCNVCRKYQAKPWQAL-TTSSDYIWWYEV-G--FQIQKKEMITMEGCRRLALDMKAQDTSAPHMYVGDWHPYAYTFFGNKKINGRMLENARARRFQLRKIIFMSVSSAGKGWNDLGQNLGFC-HTKHKDCSWMMWATTH\n",
      "GEN--FLE--T---Y-FAFHARSPKLLYMMLCGHTPWMTDCEEEFLENEQFG----H--HWAGIKNPSYDEACLW-WN--TI-F-ERNYIWNDMACEEGCEWNNMGGRGKTSVTHTSHARCKPIEDGKIDQRQDYRWMHHGDIINDHNIVTYINI-----LW---FGDWV-F----YEMRWSFEDCFEGRRINMRVMNKRLIAKELYDRTDGVFT-Q-----PTVNSSPDKACAIAC-CCYGYSKG-YWIMGISLAISPYWCGNCHQWIHSMTGTQTQNQQLNVYEIKFSHD-YCWEDSDL--IY-GMGSNCLWVCDQRKYSDQECHFMRVL-LCIWSFIQR-F---HDCGNWENYWRCVDTNFDNSDPNHDRLRAESNTIRKGGDWLAARHPGGKH--I---FC-E-------WT-W-ECKHNRGYCNM-KNWRGGC-RDIVLMWDMTNAGKSLKMVYTVYRSNEVENT--KMSLMCQGVFDAD-YG-K--VFSH-YP---W-HHSYKHDDFPCFSDKWRVSSEGSGLKMDTTLIWSFMFESNTYQQKRSAKHN---KC-TGLKYCTKQPFSNKPFTHNCCKMQKYQFTCFAIRPMCNTCDKIGCKETQGMWCFCYHEYPLLHCFKTDEIAGHI-WASNGARYLLDNIDLQEYIMKS--ST--LRIPTWPCIISWAKGIQCFYDIKMLLVSYADCIAEDYIGGHFKTRNSEIDEGYMAG------EFEPQNDVTMEKV--LKRIMQKKFEQLVLNPQPYPYFGQTFYSNPIICHRYWYVAHIWRVWLNSAAKSYWL--------IQADRHKCIPGDRHIYLWVARELDC---NAVWFGC-HH-YYKFYRQRVQFGCNVCRKYQAKPWQAL-TTSSDYIWWYEV-G--FQIQKKEMITMEGCRRLALDMKAQDTSAPHMYVGDWHPYAYTFFGNKKINGRMLENARARRFQLRKIIFMSVSSAGKGWNDLGQNLGFC-HTKHKDCSWMMWATTH\n"
     ]
    }
   ],
   "source": [
    "print(s[len(v),len(w)])\n",
    "print(output_lcs_v(backtrack,v,len(v),len(w)))\n",
    "print(output_lcs_v(backtrack,v,len(v),len(w)))"
   ]
  },
  {
   "cell_type": "code",
   "execution_count": null,
   "metadata": {},
   "outputs": [],
   "source": []
  }
 ],
 "metadata": {
  "kernelspec": {
   "display_name": "Python 3",
   "language": "python",
   "name": "python3"
  },
  "language_info": {
   "codemirror_mode": {
    "name": "ipython",
    "version": 3
   },
   "file_extension": ".py",
   "mimetype": "text/x-python",
   "name": "python",
   "nbconvert_exporter": "python",
   "pygments_lexer": "ipython3",
   "version": "3.7.1"
  }
 },
 "nbformat": 4,
 "nbformat_minor": 2
}
