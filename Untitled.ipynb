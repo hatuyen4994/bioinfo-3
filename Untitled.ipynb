{
 "cells": [
  {
   "cell_type": "code",
   "execution_count": 7,
   "metadata": {},
   "outputs": [],
   "source": [
    "import numpy as np"
   ]
  },
  {
   "cell_type": "code",
   "execution_count": 8,
   "metadata": {},
   "outputs": [],
   "source": [
    "blosum62 = {'A': {'A': 4, 'C': 0, 'E': -1, 'D': -2, 'G': 0, 'F': -2, 'I': -1, 'H': -2, 'K': -1, 'M': -1, 'L': -1, 'N': -2, 'Q': -1, 'P': -1, 'S': 1, 'R': -1, 'T': 0, 'W': -3, 'V': 0, 'Y': -2}, 'C': {'A': 0, 'C': 9, 'E': -4, 'D': -3, 'G': -3, 'F': -2, 'I': -1, 'H': -3, 'K': -3, 'M': -1, 'L': -1, 'N': -3, 'Q': -3, 'P': -3, 'S': -1, 'R': -3, 'T': -1, 'W': -2, 'V': -1, 'Y': -2}, 'E': {'A': -1, 'C': -4, 'E': 5, 'D': 2, 'G': -2, 'F': -3, 'I': -3, 'H': 0, 'K': 1, 'M': -2, 'L': -3, 'N': 0, 'Q': 2, 'P': -1, 'S': 0, 'R': 0, 'T': -1, 'W': -3, 'V': -2, 'Y': -2}, 'D': {'A': -2, 'C': -3, 'E': 2, 'D': 6, 'G': -1, 'F': -3, 'I': -3, 'H': -1, 'K': -1, 'M': -3, 'L': -4, 'N': 1, 'Q': 0, 'P': -1, 'S': 0, 'R': -2, 'T': -1, 'W': -4, 'V': -3, 'Y': -3}, 'G': {'A': 0, 'C': -3, 'E': -2, 'D': -1, 'G': 6, 'F': -3, 'I': -4, 'H': -2, 'K': -2, 'M': -3, 'L': -4, 'N': 0, 'Q': -2, 'P': -2, 'S': 0, 'R': -2, 'T': -2, 'W': -2, 'V': -3, 'Y': -3}, 'F': {'A': -2, 'C': -2, 'E': -3, 'D': -3, 'G': -3, 'F': 6, 'I': 0, 'H': -1, 'K': -3, 'M': 0, 'L': 0, 'N': -3, 'Q': -3, 'P': -4, 'S': -2, 'R': -3, 'T': -2, 'W': 1, 'V': -1, 'Y': 3}, 'I': {'A': -1, 'C': -1, 'E': -3, 'D': -3, 'G': -4, 'F': 0, 'I': 4, 'H': -3, 'K': -3, 'M': 1, 'L': 2, 'N': -3, 'Q': -3, 'P': -3, 'S': -2, 'R': -3, 'T': -1, 'W': -3, 'V': 3, 'Y': -1}, 'H': {'A': -2, 'C': -3, 'E': 0, 'D': -1, 'G': -2, 'F': -1, 'I': -3, 'H': 8, 'K': -1, 'M': -2, 'L': -3, 'N': 1, 'Q': 0, 'P': -2, 'S': -1, 'R': 0, 'T': -2, 'W': -2, 'V': -3, 'Y': 2}, 'K': {'A': -1, 'C': -3, 'E': 1, 'D': -1, 'G': -2, 'F': -3, 'I': -3, 'H': -1, 'K': 5, 'M': -1, 'L': -2, 'N': 0, 'Q': 1, 'P': -1, 'S': 0, 'R': 2, 'T': -1, 'W': -3, 'V': -2, 'Y': -2}, 'M': {'A': -1, 'C': -1, 'E': -2, 'D': -3, 'G': -3, 'F': 0, 'I': 1, 'H': -2, 'K': -1, 'M': 5, 'L': 2, 'N': -2, 'Q': 0, 'P': -2, 'S': -1, 'R': -1, 'T': -1, 'W': -1, 'V': 1, 'Y': -1}, 'L': {'A': -1, 'C': -1, 'E': -3, 'D': -4, 'G': -4, 'F': 0, 'I': 2, 'H': -3, 'K': -2, 'M': 2, 'L': 4, 'N': -3, 'Q': -2, 'P': -3, 'S': -2, 'R': -2, 'T': -1, 'W': -2, 'V': 1, 'Y': -1}, 'N': {'A': -2, 'C': -3, 'E': 0, 'D': 1, 'G': 0, 'F': -3, 'I': -3, 'H': 1, 'K': 0, 'M': -2, 'L': -3, 'N': 6, 'Q': 0, 'P': -2, 'S': 1, 'R': 0, 'T': 0, 'W': -4, 'V': -3, 'Y': -2}, 'Q': {'A': -1, 'C': -3, 'E': 2, 'D': 0, 'G': -2, 'F': -3, 'I': -3, 'H': 0, 'K': 1, 'M': 0, 'L': -2, 'N': 0, 'Q': 5, 'P': -1, 'S': 0, 'R': 1, 'T': -1, 'W': -2, 'V': -2, 'Y': -1}, 'P': {'A': -1, 'C': -3, 'E': -1, 'D': -1, 'G': -2, 'F': -4, 'I': -3, 'H': -2, 'K': -1, 'M': -2, 'L': -3, 'N': -2, 'Q': -1, 'P': 7, 'S': -1, 'R': -2, 'T': -1, 'W': -4, 'V': -2, 'Y': -3}, 'S': {'A': 1, 'C': -1, 'E': 0, 'D': 0, 'G': 0, 'F': -2, 'I': -2, 'H': -1, 'K': 0, 'M': -1, 'L': -2, 'N': 1, 'Q': 0, 'P': -1, 'S': 4, 'R': -1, 'T': 1, 'W': -3, 'V': -2, 'Y': -2}, 'R': {'A': -1, 'C': -3, 'E': 0, 'D': -2, 'G': -2, 'F': -3, 'I': -3, 'H': 0, 'K': 2, 'M': -1, 'L': -2, 'N': 0, 'Q': 1, 'P': -2, 'S': -1, 'R': 5, 'T': -1, 'W': -3, 'V': -3, 'Y': -2}, 'T': {'A': 0, 'C': -1, 'E': -1, 'D': -1, 'G': -2, 'F': -2, 'I': -1, 'H': -2, 'K': -1, 'M': -1, 'L': -1, 'N': 0, 'Q': -1, 'P': -1, 'S': 1, 'R': -1, 'T': 5, 'W': -2, 'V': 0, 'Y': -2}, 'W': {'A': -3, 'C': -2, 'E': -3, 'D': -4, 'G': -2, 'F': 1, 'I': -3, 'H': -2, 'K': -3, 'M': -1, 'L': -2, 'N': -4, 'Q': -2, 'P': -4, 'S': -3, 'R': -3, 'T': -2, 'W': 11, 'V': -3, 'Y': 2}, 'V': {'A': 0, 'C': -1, 'E': -2, 'D': -3, 'G': -3, 'F': -1, 'I': 3, 'H': -3, 'K': -2, 'M': 1, 'L': 1, 'N': -3, 'Q': -2, 'P': -2, 'S': -2, 'R': -3, 'T': 0, 'W': -3, 'V': 4, 'Y': -1}, 'Y': {'A': -2, 'C': -2, 'E': -2, 'D': -3, 'G': -3, 'F': 3, 'I': -1, 'H': 2, 'K': -2, 'M': -1, 'L': -1, 'N': -2, 'Q': -1, 'P': -3, 'S': -2, 'R': -2, 'T': -2, 'W': 2, 'V': -1, 'Y': 7}}\n",
    "\n"
   ]
  },
  {
   "cell_type": "code",
   "execution_count": 39,
   "metadata": {},
   "outputs": [],
   "source": [
    "def np_index(condition):\n",
    "    result = np.where(condition)\n",
    "    return [a for a in result[0]]\n",
    "\n",
    "def from_source(v,w,score_matrix):\n",
    "    s0 = np.zeros([len(v)+1, 1])\n",
    "    middle = len(w) // 2\n",
    "    for i in range(len(v)+1):\n",
    "        s0[i] = -5 * i   \n",
    "    for j in range(1, middle + 1):\n",
    "        s1 = np.zeros([len(v)+1, 1])\n",
    "        for i in range(0, len(v)+1):\n",
    "            score = score_matrix[v[i-1]][w[j-1]]\n",
    "            if i == 0 :\n",
    "                s1[i] = s0[i] - 5\n",
    "            else:\n",
    "                s1[i] = max(s1[i-1] - 5, \n",
    "                              s0[i] - 5, \n",
    "                              s0[i-1] + score)\n",
    "        s0 = s1\n",
    "    return s0\n",
    "\n",
    "def to_sink(v,w,score_matrix):\n",
    "    v = v[::-1]\n",
    "    w = w[::-1]\n",
    "    s0 = np.zeros([len(v)+1, 1])\n",
    "    middle = len(w) - len(w) // 2\n",
    "    for i in range(len(v)+1):\n",
    "        s0[i] = -5 * i\n",
    "\n",
    "    for j in range(1, middle + 1):\n",
    "        s1 = np.zeros([len(v)+1, 1])\n",
    "        for i in range(0, len(v)+1):\n",
    "            score = score_matrix[v[i-1]][w[j-1]]\n",
    "            if i == 0 :\n",
    "                s1[i] = s0[i] - 5\n",
    "            else:\n",
    "                s1[i] = max(s1[i-1] - 5, \n",
    "                              s0[i] - 5, \n",
    "                              s0[i-1] + score)\n",
    "        s0 = s1\n",
    "    return s0[::-1]\n",
    "\n",
    "def middle_node(v,w,score_matrix):\n",
    "    middle = len(w)//2\n",
    "    middle_column = from_source(v,w,score_matrix) + to_sink(v,w,score_matrix)\n",
    "    middle_i = np_index(middle_column == middle_column.max())\n",
    "    middle_nodes = [(i,middle) for i in middle_i]\n",
    "    return middle_nodes\n",
    "\n",
    "def from_source_2(v,w,score_matrix):\n",
    "    s0 = np.zeros([len(v)+1, 1])\n",
    "    middle = len(w) // 2\n",
    "    for i in range(len(v)+1):\n",
    "        s0[i] = -5 * i   \n",
    "    for j in range(1, middle + 2):\n",
    "        s1 = np.zeros([len(v)+1, 1])\n",
    "        for i in range(0, len(v)+1):\n",
    "            score = score_matrix[v[i-1]][w[j-1]]\n",
    "            if i == 0 :\n",
    "                s1[i] = s0[i] - 5\n",
    "            else:\n",
    "                s1[i] = max(s1[i-1] - 5, \n",
    "                              s0[i] - 5, \n",
    "                              s0[i-1] + score)\n",
    "        if j <= middle:\n",
    "            s0 = s1\n",
    "    return s0,s1\n",
    "\n",
    "def to_sink_2(v,w,score_matrix):\n",
    "    v = v[::-1]\n",
    "    w = w[::-1]\n",
    "    s0 = np.zeros([len(v)+1, 1])\n",
    "    middle = len(w) - len(w) // 2\n",
    "    for i in range(len(v)+1):\n",
    "        s0[i] = -5 * i\n",
    "\n",
    "    for j in range(1, middle + 1):\n",
    "        s1 = np.zeros([len(v)+1, 1])\n",
    "        for i in range(0, len(v)+1):\n",
    "            score = score_matrix[v[i-1]][w[j-1]]\n",
    "            if i == 0 :\n",
    "                s1[i] = s0[i] - 5\n",
    "            else:\n",
    "                s1[i] = max(s1[i-1] - 5, \n",
    "                              s0[i] - 5, \n",
    "                              s0[i-1] + score)\n",
    "        if j < middle:        \n",
    "            s0 = s1\n",
    "    return s0[::-1],s1[::-1]\n",
    "\n",
    "\n",
    "def middle_edge(v,w,score_matrix, top = None, bottom = None, left = None, right = None):\n",
    "    print_max_length = False\n",
    "    if bottom == None:\n",
    "        top,left = 0,0\n",
    "        bottom = len(v)\n",
    "        right = len(w)\n",
    "    if  bottom == len(v) and right == len(w):\n",
    "        print_max_length = True\n",
    "    v = v[top:bottom]\n",
    "    w = w[left:right]\n",
    "    source1, source2 = from_source_2(v,w,score_matrix)\n",
    "    sink1,sink2 = to_sink_2(v,w,score_matrix)\n",
    "    j_column = source1 + sink2\n",
    "    j_plus_column = source2 + sink1\n",
    "    print(j_column)\n",
    "    print(j_plus_column)\n",
    "    middle = len(w) // 2\n",
    "    middle_nodes_start = np_index(j_column == j_column.max())\n",
    "    middle_nodes_end = np_index(j_plus_column == j_plus_column.max())\n",
    "    print(middle_nodes_start)\n",
    "    print(middle_nodes_end)\n",
    "    start = (middle_nodes_start[-1] + top,middle + left)\n",
    "    end = (middle_nodes_end[-1] + top, middle+1 + left)\n",
    "    if print_max_length:\n",
    "        print(\"MAX LENGTH\",j_column.max())\n",
    "    return start,end"
   ]
  },
  {
   "cell_type": "code",
   "execution_count": 40,
   "metadata": {},
   "outputs": [],
   "source": [
    "v = \"PLEASANT\"\n",
    "w = \"MEAN\""
   ]
  },
  {
   "cell_type": "code",
   "execution_count": 41,
   "metadata": {},
   "outputs": [
    {
     "name": "stdout",
     "output_type": "stream",
     "text": [
      "[[-30.]\n",
      " [-21.]\n",
      " [-15.]\n",
      " [ -3.]\n",
      " [ -3.]\n",
      " [ -3.]\n",
      " [-15.]\n",
      " [-23.]\n",
      " [-33.]]\n",
      "[[-44.]\n",
      " [-35.]\n",
      " [-26.]\n",
      " [-17.]\n",
      " [ -3.]\n",
      " [ -3.]\n",
      " [ -3.]\n",
      " [ -9.]\n",
      " [-19.]]\n",
      "[3, 4, 5]\n",
      "[4, 5, 6]\n",
      "MAX LENGTH -3.0\n"
     ]
    },
    {
     "data": {
      "text/plain": [
       "((5, 2), (6, 3))"
      ]
     },
     "execution_count": 41,
     "metadata": {},
     "output_type": "execute_result"
    }
   ],
   "source": [
    "middle_edge(v,w,blosum62)"
   ]
  },
  {
   "cell_type": "code",
   "execution_count": null,
   "metadata": {},
   "outputs": [],
   "source": []
  }
 ],
 "metadata": {
  "kernelspec": {
   "display_name": "Python 3",
   "language": "python",
   "name": "python3"
  },
  "language_info": {
   "codemirror_mode": {
    "name": "ipython",
    "version": 3
   },
   "file_extension": ".py",
   "mimetype": "text/x-python",
   "name": "python",
   "nbconvert_exporter": "python",
   "pygments_lexer": "ipython3",
   "version": "3.7.1"
  }
 },
 "nbformat": 4,
 "nbformat_minor": 2
}
