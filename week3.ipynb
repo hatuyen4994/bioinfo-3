{
 "cells": [
  {
   "cell_type": "code",
   "execution_count": 1,
   "metadata": {},
   "outputs": [],
   "source": [
    "import numpy as np"
   ]
  },
  {
   "cell_type": "code",
   "execution_count": 18,
   "metadata": {},
   "outputs": [],
   "source": [
    "blosum62 = {'A': {'A': 4, 'C': 0, 'E': -1, 'D': -2, 'G': 0, 'F': -2, 'I': -1, 'H': -2, 'K': -1, 'M': -1, 'L': -1, 'N': -2, 'Q': -1, 'P': -1, 'S': 1, 'R': -1, 'T': 0, 'W': -3, 'V': 0, 'Y': -2}, 'C': {'A': 0, 'C': 9, 'E': -4, 'D': -3, 'G': -3, 'F': -2, 'I': -1, 'H': -3, 'K': -3, 'M': -1, 'L': -1, 'N': -3, 'Q': -3, 'P': -3, 'S': -1, 'R': -3, 'T': -1, 'W': -2, 'V': -1, 'Y': -2}, 'E': {'A': -1, 'C': -4, 'E': 5, 'D': 2, 'G': -2, 'F': -3, 'I': -3, 'H': 0, 'K': 1, 'M': -2, 'L': -3, 'N': 0, 'Q': 2, 'P': -1, 'S': 0, 'R': 0, 'T': -1, 'W': -3, 'V': -2, 'Y': -2}, 'D': {'A': -2, 'C': -3, 'E': 2, 'D': 6, 'G': -1, 'F': -3, 'I': -3, 'H': -1, 'K': -1, 'M': -3, 'L': -4, 'N': 1, 'Q': 0, 'P': -1, 'S': 0, 'R': -2, 'T': -1, 'W': -4, 'V': -3, 'Y': -3}, 'G': {'A': 0, 'C': -3, 'E': -2, 'D': -1, 'G': 6, 'F': -3, 'I': -4, 'H': -2, 'K': -2, 'M': -3, 'L': -4, 'N': 0, 'Q': -2, 'P': -2, 'S': 0, 'R': -2, 'T': -2, 'W': -2, 'V': -3, 'Y': -3}, 'F': {'A': -2, 'C': -2, 'E': -3, 'D': -3, 'G': -3, 'F': 6, 'I': 0, 'H': -1, 'K': -3, 'M': 0, 'L': 0, 'N': -3, 'Q': -3, 'P': -4, 'S': -2, 'R': -3, 'T': -2, 'W': 1, 'V': -1, 'Y': 3}, 'I': {'A': -1, 'C': -1, 'E': -3, 'D': -3, 'G': -4, 'F': 0, 'I': 4, 'H': -3, 'K': -3, 'M': 1, 'L': 2, 'N': -3, 'Q': -3, 'P': -3, 'S': -2, 'R': -3, 'T': -1, 'W': -3, 'V': 3, 'Y': -1}, 'H': {'A': -2, 'C': -3, 'E': 0, 'D': -1, 'G': -2, 'F': -1, 'I': -3, 'H': 8, 'K': -1, 'M': -2, 'L': -3, 'N': 1, 'Q': 0, 'P': -2, 'S': -1, 'R': 0, 'T': -2, 'W': -2, 'V': -3, 'Y': 2}, 'K': {'A': -1, 'C': -3, 'E': 1, 'D': -1, 'G': -2, 'F': -3, 'I': -3, 'H': -1, 'K': 5, 'M': -1, 'L': -2, 'N': 0, 'Q': 1, 'P': -1, 'S': 0, 'R': 2, 'T': -1, 'W': -3, 'V': -2, 'Y': -2}, 'M': {'A': -1, 'C': -1, 'E': -2, 'D': -3, 'G': -3, 'F': 0, 'I': 1, 'H': -2, 'K': -1, 'M': 5, 'L': 2, 'N': -2, 'Q': 0, 'P': -2, 'S': -1, 'R': -1, 'T': -1, 'W': -1, 'V': 1, 'Y': -1}, 'L': {'A': -1, 'C': -1, 'E': -3, 'D': -4, 'G': -4, 'F': 0, 'I': 2, 'H': -3, 'K': -2, 'M': 2, 'L': 4, 'N': -3, 'Q': -2, 'P': -3, 'S': -2, 'R': -2, 'T': -1, 'W': -2, 'V': 1, 'Y': -1}, 'N': {'A': -2, 'C': -3, 'E': 0, 'D': 1, 'G': 0, 'F': -3, 'I': -3, 'H': 1, 'K': 0, 'M': -2, 'L': -3, 'N': 6, 'Q': 0, 'P': -2, 'S': 1, 'R': 0, 'T': 0, 'W': -4, 'V': -3, 'Y': -2}, 'Q': {'A': -1, 'C': -3, 'E': 2, 'D': 0, 'G': -2, 'F': -3, 'I': -3, 'H': 0, 'K': 1, 'M': 0, 'L': -2, 'N': 0, 'Q': 5, 'P': -1, 'S': 0, 'R': 1, 'T': -1, 'W': -2, 'V': -2, 'Y': -1}, 'P': {'A': -1, 'C': -3, 'E': -1, 'D': -1, 'G': -2, 'F': -4, 'I': -3, 'H': -2, 'K': -1, 'M': -2, 'L': -3, 'N': -2, 'Q': -1, 'P': 7, 'S': -1, 'R': -2, 'T': -1, 'W': -4, 'V': -2, 'Y': -3}, 'S': {'A': 1, 'C': -1, 'E': 0, 'D': 0, 'G': 0, 'F': -2, 'I': -2, 'H': -1, 'K': 0, 'M': -1, 'L': -2, 'N': 1, 'Q': 0, 'P': -1, 'S': 4, 'R': -1, 'T': 1, 'W': -3, 'V': -2, 'Y': -2}, 'R': {'A': -1, 'C': -3, 'E': 0, 'D': -2, 'G': -2, 'F': -3, 'I': -3, 'H': 0, 'K': 2, 'M': -1, 'L': -2, 'N': 0, 'Q': 1, 'P': -2, 'S': -1, 'R': 5, 'T': -1, 'W': -3, 'V': -3, 'Y': -2}, 'T': {'A': 0, 'C': -1, 'E': -1, 'D': -1, 'G': -2, 'F': -2, 'I': -1, 'H': -2, 'K': -1, 'M': -1, 'L': -1, 'N': 0, 'Q': -1, 'P': -1, 'S': 1, 'R': -1, 'T': 5, 'W': -2, 'V': 0, 'Y': -2}, 'W': {'A': -3, 'C': -2, 'E': -3, 'D': -4, 'G': -2, 'F': 1, 'I': -3, 'H': -2, 'K': -3, 'M': -1, 'L': -2, 'N': -4, 'Q': -2, 'P': -4, 'S': -3, 'R': -3, 'T': -2, 'W': 11, 'V': -3, 'Y': 2}, 'V': {'A': 0, 'C': -1, 'E': -2, 'D': -3, 'G': -3, 'F': -1, 'I': 3, 'H': -3, 'K': -2, 'M': 1, 'L': 1, 'N': -3, 'Q': -2, 'P': -2, 'S': -2, 'R': -3, 'T': 0, 'W': -3, 'V': 4, 'Y': -1}, 'Y': {'A': -2, 'C': -2, 'E': -2, 'D': -3, 'G': -3, 'F': 3, 'I': -1, 'H': 2, 'K': -2, 'M': -1, 'L': -1, 'N': -2, 'Q': -1, 'P': -3, 'S': -2, 'R': -2, 'T': -2, 'W': 2, 'V': -1, 'Y': 7}}\n",
    "\n"
   ]
  },
  {
   "cell_type": "code",
   "execution_count": 91,
   "metadata": {},
   "outputs": [],
   "source": [
    "def GA_affine_gap(v,w,score_matrix):\n",
    "#Initiate\n",
    "    sigma = 11\n",
    "    epsilon = 1\n",
    "    s_lower = np.zeros([len(v)+1, len(w)+1])\n",
    "    s_middle = np.zeros([len(v)+1, len(w)+1])\n",
    "    s_upper = np.zeros([len(v)+1, len(w)+1])\n",
    "    \n",
    "    b_lower = np.zeros([len(v)+1, len(w)+1])\n",
    "    b_lower = [list(i) for i in b_lower]\n",
    "    b_middle = np.zeros([len(v)+1, len(w)+1])\n",
    "    b_middle = [list(i) for i in b_middle]\n",
    "    b_upper = np.zeros([len(v)+1, len(w)+1])\n",
    "    b_upper = [list(i) for i in b_upper]\n",
    "#Populate   \n",
    "    s_lower[0,0] = -float(\"inf\")\n",
    "    s_upper[0,0] = -float(\"inf\")\n",
    "\n",
    "    for i in range(1,len(v)+1):\n",
    "        s_lower[i,0] = 0 - sigma - (i-1)*epsilon\n",
    "        s_upper[i,0] = -float(\"inf\")\n",
    "        s_middle[i,0] = 0 - sigma - (i-1)*epsilon\n",
    "    for j in range(1,len(w)+1):\n",
    "        s_lower[0,j] = -float(\"inf\")\n",
    "        s_upper[0,j] = 0 - sigma - (j-1)*epsilon\n",
    "        s_middle[0,j] = 0 - sigma - (j-1)*epsilon\n",
    "\n",
    "#GO    \n",
    "    for i in range(1,len(v)+1):\n",
    "        for j in range(1, len(w)+1):\n",
    "            s_lower[i,j] = max(s_lower[i-1,j] - epsilon,\n",
    "                               s_middle[i-1,j] - sigma)\n",
    "            if s_lower[i,j] == s_lower[i-1,j] - epsilon:\n",
    "                b_lower[i][j] = \"down\"\n",
    "            elif s_lower[i,j] == s_middle[i-1,j] - sigma:\n",
    "                b_lower[i][j] = \"middle\"            \n",
    "            \n",
    "            s_upper[i,j] = max(s_upper[i,j-1] - epsilon,\n",
    "                               s_middle[i,j-1] - sigma)\n",
    "            if s_upper[i,j] == s_upper[i,j-1] - epsilon:\n",
    "                b_upper[i][j] = \"right\"\n",
    "            elif s_upper[i,j] == s_middle[i,j-1] - sigma:\n",
    "                b_upper[i][j] = \"middle\"\n",
    "                \n",
    "            s_middle[i,j] = max(s_lower[i,j], \n",
    "                                s_upper[i,j], \n",
    "                                s_middle[i-1,j-1] + score_matrix[v[i-1]][w[j-1]])\n",
    "            if s_middle[i,j] == s_lower[i,j]:\n",
    "                b_middle[i][j] = \"lower\"\n",
    "            elif s_middle[i,j] == s_upper[i,j]:\n",
    "                b_middle[i][j] = \"upper\"\n",
    "            elif s_middle[i,j] == s_middle[i-1,j-1] + score_matrix[v[i-1]][w[j-1]]:\n",
    "                b_middle[i][j] = \"diag\"\n",
    "\n",
    "    return [[s_lower,s_middle,s_upper],[b_lower, b_middle, b_upper]]\n",
    "\n",
    "def output_GA_v(pos, backtrack_list, v, i, j):\n",
    "    b_lower, b_middle, b_upper = backtrack_list\n",
    "    if i == 0 and j == 0:\n",
    "        return \"\"\n",
    "    elif i == 1 and j == 0:\n",
    "        return v[i-1]\n",
    "    elif i == 0 and j == 1:\n",
    "        return \"-\"\n",
    "    if pos == \"middle\":\n",
    "        if b_middle[i][j] == \"lower\":\n",
    "            return output_GA_v(\"lower\", backtrack_list, v, i, j)\n",
    "        elif b_middle[i][j] == \"upper\":\n",
    "            return output_GA_v(\"upper\", backtrack_list, v, i, j)\n",
    "        elif b_middle[i][j] == \"diag\":\n",
    "            return output_GA_v(\"middle\", backtrack_list, v, i-1, j-1) + v[i-1]\n",
    "    \n",
    "    elif pos == \"lower\":\n",
    "        if b_lower[i][j] == \"down\":\n",
    "            return output_GA_v(\"lower\", backtrack_list, v, i-1, j) + v[i-1]\n",
    "        if b_lower[i][j] == \"middle\":\n",
    "            return output_GA_v(\"middle\", backtrack_list, v, i-1, j) + v[i-1]\n",
    "\n",
    "    elif pos == \"upper\":\n",
    "        if b_upper[i][j] == \"right\":\n",
    "            return output_GA_v(\"upper\", backtrack_list, v, i, j-1) + \"-\"\n",
    "        if b_upper[i][j] == \"middle\":\n",
    "            return output_GA_v(\"middle\", backtrack_list, v, i, j-1) + \"-\"\n",
    "\n",
    "        \n",
    "        \n",
    "def output_GA_w(pos, backtrack_list, w, i, j):\n",
    "    b_lower, b_middle, b_upper = backtrack_list\n",
    "    if i == 0 and j == 0:\n",
    "        return \"\"\n",
    "    elif i == 1 and j == 0:\n",
    "        return \"-\"\n",
    "    elif i == 0 and j == 1:\n",
    "        return w[j-1]\n",
    "    if pos == \"middle\":\n",
    "        if b_middle[i][j] == \"lower\":\n",
    "            return output_GA_w(\"lower\", backtrack_list, w, i, j)\n",
    "        elif b_middle[i][j] == \"upper\":\n",
    "            return output_GA_w(\"upper\", backtrack_list, w, i, j)\n",
    "        elif b_middle[i][j] == \"diag\":\n",
    "            return output_GA_w(\"middle\", backtrack_list, w, i-1, j-1) + w[j-1]\n",
    "    \n",
    "    elif pos == \"lower\":\n",
    "        if b_lower[i][j] == \"down\":\n",
    "            return output_GA_w(\"lower\", backtrack_list, w, i-1, j) + \"-\"\n",
    "        if b_lower[i][j] == \"middle\":\n",
    "            return output_GA_w(\"middle\", backtrack_list, w, i-1, j) + \"-\"\n",
    "\n",
    "    elif pos == \"upper\":\n",
    "        if b_upper[i][j] == \"right\":\n",
    "            return output_GA_w(\"upper\", backtrack_list, w, i, j-1) + w[j-1]\n",
    "        if b_upper[i][j] == \"middle\":\n",
    "            return output_GA_w(\"middle\", backtrack_list, w, i, j-1) + w[j-1]\n"
   ]
  },
  {
   "cell_type": "code",
   "execution_count": 96,
   "metadata": {},
   "outputs": [],
   "source": [
    "v = \"QMHFCKNAQNVCVVTVMSWTWLDRCESPQSYQKSPEFAGLTFWRMTNRNCHWKPDCFVSRFGQTTVKLHDWFGEEDDLAGWC\"\n",
    "w = \"QMHFCKNAQNVCVVTVMSWTWLKRCESPQSFLDNLDTTQKSPEYAGLTFMRETNRNNLPQKVKQVHSRQWLHDWFGEKNQVKYYDDLAGWC\""
   ]
  },
  {
   "cell_type": "code",
   "execution_count": 97,
   "metadata": {},
   "outputs": [],
   "source": [
    "result = GA_affine_gap(v,w,blosum62)"
   ]
  },
  {
   "cell_type": "code",
   "execution_count": 98,
   "metadata": {},
   "outputs": [
    {
     "name": "stdout",
     "output_type": "stream",
     "text": [
      "277\n",
      "QMHFCKNAQNVCVVTVMSWTWLDRCESPQSY-------QKSPEFAGLTFWRMTNRNCHWKPDCFVSRFGQTTVK--LHDWFGEE------DDLAGWC\n",
      "QMHFCKNAQNVCVVTVMSWTWLKRCESPQSFLDNLDTTQKSPEYAGLTFMRETNRNN------LPQKVKQVHSRQWLHDWFGEKNQVKYYDDLAGWC\n"
     ]
    }
   ],
   "source": [
    "print(int(result[0][1][-1,-1]))\n",
    "print(output_GA_v(\"middle\", result[1], v, len(v), len(w)))\n",
    "print(output_GA_w(\"middle\", result[1], w, len(v), len(w)))"
   ]
  },
  {
   "cell_type": "code",
   "execution_count": 92,
   "metadata": {},
   "outputs": [
    {
     "data": {
      "text/plain": [
       "'PRTWPSEIN-'"
      ]
     },
     "execution_count": 92,
     "metadata": {},
     "output_type": "execute_result"
    }
   ],
   "source": []
  },
  {
   "cell_type": "code",
   "execution_count": null,
   "metadata": {},
   "outputs": [],
   "source": []
  }
 ],
 "metadata": {
  "kernelspec": {
   "display_name": "Python 3",
   "language": "python",
   "name": "python3"
  },
  "language_info": {
   "codemirror_mode": {
    "name": "ipython",
    "version": 3
   },
   "file_extension": ".py",
   "mimetype": "text/x-python",
   "name": "python",
   "nbconvert_exporter": "python",
   "pygments_lexer": "ipython3",
   "version": "3.7.1"
  }
 },
 "nbformat": 4,
 "nbformat_minor": 2
}
