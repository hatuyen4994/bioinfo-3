{
 "cells": [
  {
   "cell_type": "code",
   "execution_count": 1,
   "metadata": {},
   "outputs": [],
   "source": [
    "import sys"
   ]
  },
  {
   "cell_type": "code",
   "execution_count": 2,
   "metadata": {},
   "outputs": [],
   "source": [
    "def parse_permutation(P):\n",
    "    P = P.strip()\n",
    "    P = P.split(\" \")\n",
    "    P_int = [int(pk) for pk in P]\n",
    "    return P_int\n"
   ]
  },
  {
   "cell_type": "code",
   "execution_count": 3,
   "metadata": {},
   "outputs": [],
   "source": [
    "def k_sorting_reversal(P,k):\n",
    "    if k != abs(P[k-1]):\n",
    "        for i in range(k-1,len(P)):\n",
    "            if k == abs(P[i]):\n",
    "                rev = P[k-1:i+1][::-1]\n",
    "                P[k-1:i+1] = [pk*(-1) for pk in rev]\n",
    "        return P\n",
    "    if P[k-1] < 0:\n",
    "        P[k-1] = P[k-1]*(-1)\n",
    "        return P\n",
    "    "
   ]
  },
  {
   "cell_type": "code",
   "execution_count": 4,
   "metadata": {},
   "outputs": [],
   "source": [
    "def greedy_sorting(P):\n",
    "    P = P[:]\n",
    "    reversal_distance = 0\n",
    "    P_sequence = []\n",
    "    for k in range(1, len(P)+1):\n",
    "        if abs(P[k-1]) != k:\n",
    "            P = k_sorting_reversal(P,k)\n",
    "            P_sequence.append(P[:])\n",
    "            reversal_distance +=1\n",
    "        if P[k-1] != k:\n",
    "            P = k_sorting_reversal(P,k)\n",
    "            P_sequence.append(P[:])\n",
    "            reversal_distance +=1\n",
    "    return reversal_distance,P_sequence"
   ]
  },
  {
   "cell_type": "code",
   "execution_count": 5,
   "metadata": {},
   "outputs": [],
   "source": [
    "def print_P(P):\n",
    "    string = ' '.join(('+' if i > 0 else '') + str(i) for i in P)\n",
    "    print(string)\n",
    "    return None"
   ]
  },
  {
   "cell_type": "code",
   "execution_count": 32,
   "metadata": {},
   "outputs": [],
   "source": [
    "P = \"\"\"-16 -20 +12 +18 -14 -17 -15 -6 -8 -19 -11 +13 -10 +4 -5 -2 +7 -3 +1 -9\n",
    "\"\"\"\n",
    "P = parse_permutation(P)"
   ]
  },
  {
   "cell_type": "code",
   "execution_count": 33,
   "metadata": {},
   "outputs": [],
   "source": [
    "rd, P_seq = greedy_sorting(P)"
   ]
  },
  {
   "cell_type": "code",
   "execution_count": 34,
   "metadata": {},
   "outputs": [
    {
     "data": {
      "text/plain": [
       "29"
      ]
     },
     "execution_count": 34,
     "metadata": {},
     "output_type": "execute_result"
    }
   ],
   "source": [
    "rd"
   ]
  },
  {
   "cell_type": "code",
   "execution_count": 21,
   "metadata": {},
   "outputs": [],
   "source": [
    "\n",
    "orig_stdout = sys.stdout\n",
    "f = open('out.txt', 'w')\n",
    "sys.stdout = f\n",
    "for P in P_seq:\n",
    "    print_P(P)\n",
    "\n",
    "sys.stdout = orig_stdout\n",
    "f.close()"
   ]
  },
  {
   "cell_type": "code",
   "execution_count": 22,
   "metadata": {},
   "outputs": [
    {
     "name": "stdout",
     "output_type": "stream",
     "text": [
      "+1 +2 +3 +4 +5 +6 +7 +8 +9 +10 +11 +12 +13 +14 +15 +16 +17 +18 +19 +20 +21 +22 +23 +24 +25 +26 +27 +28 +29 +30 +31 +32 +33 +34 +35 +36 +37 +38 +39 +40 +41 +42 +43 +44 +45 +46 +47 +48 +49 +50 +51 +52 +53 +54 +55 +56 +57 +58 +59 +60 +61 +62 +63 +64 +65 +66 +67 +68 +69 +70 +71 +72 +73 +74 +75 +76 +77 +78 +79 +80 +81 +82 +83 +84 +85 +86 +87 +88 +89 +90 +91 +92 +93 +94 +95 +96 +97 +98 +99 +100 +101 +102 +103 +104 +105 +106 +107 +108 +109 +110 +111 +112 +113 +114 +115 +116 +117 +118 +119 +120\n"
     ]
    }
   ],
   "source": [
    "print_P(P)"
   ]
  },
  {
   "cell_type": "code",
   "execution_count": 27,
   "metadata": {},
   "outputs": [],
   "source": [
    "def breakpoints_number(P):\n",
    "    bp_n = 0\n",
    "    if P[0] != 1:\n",
    "        bp_n += 1\n",
    "    if P[-1] != len(P):\n",
    "        bp_n += 1\n",
    "    for k in range(0,len(P)-1):\n",
    "        if P[k+1] - P[k] != 1:\n",
    "            bp_n += 1\n",
    "    return bp_n\n",
    "        "
   ]
  },
  {
   "cell_type": "code",
   "execution_count": 35,
   "metadata": {},
   "outputs": [],
   "source": [
    "P = \"\"\"+20 +8 +9 +10 +11 +12 +18 -7 -6 -14 +2 -17 -16 -15 +1 +4 +13 -5 +3 -19\n",
    "\"\"\"\n",
    "P = parse_permutation(P)"
   ]
  },
  {
   "cell_type": "code",
   "execution_count": 36,
   "metadata": {},
   "outputs": [
    {
     "data": {
      "text/plain": [
       "20"
      ]
     },
     "execution_count": 36,
     "metadata": {},
     "output_type": "execute_result"
    }
   ],
   "source": [
    "len(P)"
   ]
  },
  {
   "cell_type": "code",
   "execution_count": 37,
   "metadata": {},
   "outputs": [
    {
     "data": {
      "text/plain": [
       "14"
      ]
     },
     "execution_count": 37,
     "metadata": {},
     "output_type": "execute_result"
    }
   ],
   "source": [
    "breakpoints_number(P)"
   ]
  },
  {
   "cell_type": "code",
   "execution_count": null,
   "metadata": {},
   "outputs": [],
   "source": []
  }
 ],
 "metadata": {
  "kernelspec": {
   "display_name": "Python 3",
   "language": "python",
   "name": "python3"
  },
  "language_info": {
   "codemirror_mode": {
    "name": "ipython",
    "version": 3
   },
   "file_extension": ".py",
   "mimetype": "text/x-python",
   "name": "python",
   "nbconvert_exporter": "python",
   "pygments_lexer": "ipython3",
   "version": "3.7.1"
  }
 },
 "nbformat": 4,
 "nbformat_minor": 2
}
