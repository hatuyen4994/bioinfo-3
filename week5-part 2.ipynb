{
 "cells": [
  {
   "cell_type": "code",
   "execution_count": 1,
   "metadata": {},
   "outputs": [],
   "source": [
    "import numpy as np\n",
    "import copy\n",
    "import bioinfo3"
   ]
  },
  {
   "cell_type": "code",
   "execution_count": 3,
   "metadata": {},
   "outputs": [],
   "source": [
    "def cycle_to_chromosome(nodes):\n",
    "    #input has format of [1, 2, 4, 3, 6, 5, 7, 8]\n",
    "    chromosome = []\n",
    "    for j in range(0, int(len(nodes)/2)):\n",
    "        if nodes[2*j] < nodes[2*j+1]:\n",
    "            chromosome.append(int(nodes[2*j+1]/2))\n",
    "        else:\n",
    "            chromosome.append(int(-nodes[2*j]/2))\n",
    "    return chromosome\n",
    "\n",
    "def find_cycle_from_gg(gg):\n",
    "    #input has format of [(2, 4), (3, 6), (5, 1)]\n",
    "    cycles = []\n",
    "    gg_copy = copy.deepcopy(gg)\n",
    "    while gg_copy != []:\n",
    "        gg_copy = copy.deepcopy(gg)\n",
    "        start_edge = gg_copy[0]\n",
    "        start_node = min(start_edge)\n",
    "        next_node = start_node\n",
    "        cycle = []\n",
    "        if start_node % 2 == 0:\n",
    "            end_node = start_node - 1\n",
    "        else:\n",
    "            end_node = start_node + 1\n",
    "        for edge in gg:\n",
    "            if next_node in edge:\n",
    "                cycle.append(edge)\n",
    "                gg_copy.remove(edge)\n",
    "                max_node = max(edge)\n",
    "                next_node = max_node - 1 if max_node % 2 == 0 else max_node + 1\n",
    "                if end_node in edge:\n",
    "                    gg = gg_copy\n",
    "                    break\n",
    "            else:\n",
    "                if end_node in edge:\n",
    "                    cycle.append(edge)\n",
    "                    gg_copy.remove(edge)\n",
    "                    max_node = max(edge)\n",
    "                    next_node = max_node - 1 if max_node % 2 == 0 else max_node + 1\n",
    "                    gg = gg_copy\n",
    "                    break\n",
    "                else:\n",
    "                    pass\n",
    "        cycles.append(cycle)\n",
    "    return cycles\n",
    "\n",
    "def graph_to_genome(gg):\n",
    "    #genome graph is the same as color edges \n",
    "    #genome is the same as permutation\n",
    "    #input has format of [(2, 4), (3, 6), (5, 1)] or \"(2, 4), (3, 6), (5, 1)\"\n",
    "    P = []\n",
    "    if type(gg) == str:\n",
    "        gg = parse_edges(gg)\n",
    "    cycles = find_cycle_reoriented(gg)\n",
    "    for cycle in cycles:\n",
    "        nodes = []\n",
    "        for edge in cycle:\n",
    "            nodes += [edge[0]]\n",
    "            nodes += [edge[1]]\n",
    "        argmin = nodes.index(min(nodes))\n",
    "        nodes = nodes[argmin:] + nodes[:argmin]\n",
    "        if nodes[-1] == nodes[0] + 1:\n",
    "            nodes = [nodes[-1]] + nodes[:-1]\n",
    "        chromosome = cycle_to_chromosome(nodes)\n",
    "        P.append(chromosome)\n",
    "    return P"
   ]
  },
  {
   "cell_type": "code",
   "execution_count": 131,
   "metadata": {},
   "outputs": [],
   "source": [
    "def reorientate_edge(edge,head):\n",
    "    if edge[0] == head:\n",
    "        return edge\n",
    "    else:\n",
    "        return edge[::-1]\n",
    "def find_cycle_reoriented(gg):\n",
    "    cycles = []\n",
    "    gg_copy = copy.deepcopy(gg)\n",
    "    while gg_copy != []:\n",
    "        edge = gg_copy.pop(0)\n",
    "        head_node = edge[0]\n",
    "        tail_node = edge[1]\n",
    "        cycle = [edge]\n",
    "        end_node = head_node - 1 if head_node % 2 ==0 else head_node + 1\n",
    "        cycle_end = False if end_node not in edge else True\n",
    "        while not cycle_end:\n",
    "            next_node = tail_node - 1 if tail_node % 2 == 0 else tail_node + 1\n",
    "            for edge in gg_copy:\n",
    "                if next_node in edge:\n",
    "                    new_edge = reorientate_edge(edge,next_node)\n",
    "                    cycle.append(new_edge)\n",
    "                    gg_copy.remove(edge)\n",
    "                    tail_node = new_edge[1]\n",
    "                    next_node = tail_node - 1 if tail_node % 2 == 0 else tail_node + 1\n",
    "                    if end_node in new_edge:\n",
    "                        cycle_end = True\n",
    "                        break\n",
    "                    else:\n",
    "                        break\n",
    "                else:\n",
    "                    pass\n",
    "        cycles.append(cycle)\n",
    "    return cycles"
   ]
  },
  {
   "cell_type": "code",
   "execution_count": 5,
   "metadata": {},
   "outputs": [],
   "source": [
    "P = \"\"\"(+1 +2 -3 +4 -5 +6 -7 -8 +9 +10 -11 -12 +13 +14 -15 +16 +17 +18 -19 +20 +21 -22 +23 +24 +25 -26 -27 +28 +29 -30 -31 +32 -33 -34 +35 +36 -37 +38 +39 +40 -41 +42 +43 +44 +45 +46 -47 +48 -49 +50 -51 -52 +53 -54 -55 -56 +57 -58 -59 +60 -61 +62 -63 -64 -65 -66)\n",
    "\"\"\"\n",
    "P = bioinfo3.parse_permutation(P)"
   ]
  },
  {
   "cell_type": "code",
   "execution_count": 6,
   "metadata": {
    "scrolled": true
   },
   "outputs": [
    {
     "data": {
      "text/plain": [
       "[[1,\n",
       "  2,\n",
       "  -3,\n",
       "  4,\n",
       "  -5,\n",
       "  6,\n",
       "  -7,\n",
       "  -8,\n",
       "  9,\n",
       "  10,\n",
       "  -11,\n",
       "  -12,\n",
       "  13,\n",
       "  14,\n",
       "  -15,\n",
       "  16,\n",
       "  17,\n",
       "  18,\n",
       "  -19,\n",
       "  20,\n",
       "  21,\n",
       "  -22,\n",
       "  23,\n",
       "  24,\n",
       "  25,\n",
       "  -26,\n",
       "  -27,\n",
       "  28,\n",
       "  29,\n",
       "  -30,\n",
       "  -31,\n",
       "  32,\n",
       "  -33,\n",
       "  -34,\n",
       "  35,\n",
       "  36,\n",
       "  -37,\n",
       "  38,\n",
       "  39,\n",
       "  40,\n",
       "  -41,\n",
       "  42,\n",
       "  43,\n",
       "  44,\n",
       "  45,\n",
       "  46,\n",
       "  -47,\n",
       "  48,\n",
       "  -49,\n",
       "  50,\n",
       "  -51,\n",
       "  -52,\n",
       "  53,\n",
       "  -54,\n",
       "  -55,\n",
       "  -56,\n",
       "  57,\n",
       "  -58,\n",
       "  -59,\n",
       "  60,\n",
       "  -61,\n",
       "  62,\n",
       "  -63,\n",
       "  -64,\n",
       "  -65,\n",
       "  -66]]"
      ]
     },
     "execution_count": 6,
     "metadata": {},
     "output_type": "execute_result"
    }
   ],
   "source": [
    "P"
   ]
  },
  {
   "cell_type": "code",
   "execution_count": 6,
   "metadata": {
    "scrolled": true
   },
   "outputs": [
    {
     "data": {
      "text/plain": [
       "[(2, 3),\n",
       " (4, 6),\n",
       " (5, 7),\n",
       " (8, 10),\n",
       " (9, 11),\n",
       " (12, 14),\n",
       " (13, 16),\n",
       " (15, 17),\n",
       " (18, 19),\n",
       " (20, 22),\n",
       " (21, 24),\n",
       " (23, 25),\n",
       " (26, 27),\n",
       " (28, 30),\n",
       " (29, 31),\n",
       " (32, 33),\n",
       " (34, 35),\n",
       " (36, 38),\n",
       " (37, 39),\n",
       " (40, 41),\n",
       " (42, 44),\n",
       " (43, 45),\n",
       " (46, 47),\n",
       " (48, 49),\n",
       " (50, 52),\n",
       " (51, 54),\n",
       " (53, 55),\n",
       " (56, 57),\n",
       " (58, 60),\n",
       " (59, 62),\n",
       " (61, 63),\n",
       " (64, 66),\n",
       " (65, 68),\n",
       " (67, 69),\n",
       " (70, 71),\n",
       " (72, 74),\n",
       " (73, 75),\n",
       " (76, 77),\n",
       " (78, 79),\n",
       " (80, 82),\n",
       " (81, 83),\n",
       " (84, 85),\n",
       " (86, 87),\n",
       " (88, 89),\n",
       " (90, 91),\n",
       " (92, 94),\n",
       " (93, 95),\n",
       " (96, 98),\n",
       " (97, 99),\n",
       " (100, 102),\n",
       " (101, 104),\n",
       " (103, 105),\n",
       " (106, 108),\n",
       " (107, 110),\n",
       " (109, 112),\n",
       " (111, 113),\n",
       " (114, 116),\n",
       " (115, 118),\n",
       " (117, 119),\n",
       " (120, 122),\n",
       " (121, 123),\n",
       " (124, 126),\n",
       " (125, 128),\n",
       " (127, 130),\n",
       " (129, 132),\n",
       " (131, 1)]"
      ]
     },
     "execution_count": 6,
     "metadata": {},
     "output_type": "execute_result"
    }
   ],
   "source": [
    "gg = bioinfo3.color_edges(P)\n",
    "gg"
   ]
  },
  {
   "cell_type": "code",
   "execution_count": 8,
   "metadata": {
    "scrolled": true
   },
   "outputs": [],
   "source": [
    "new_gg = bioinfo3.two_breaks_on_gg(gg, 88, 89, 51, 54 )"
   ]
  },
  {
   "cell_type": "code",
   "execution_count": 9,
   "metadata": {
    "scrolled": true
   },
   "outputs": [
    {
     "data": {
      "text/plain": [
       "[(2, 3),\n",
       " (4, 6),\n",
       " (5, 7),\n",
       " (8, 10),\n",
       " (9, 11),\n",
       " (12, 14),\n",
       " (13, 16),\n",
       " (15, 17),\n",
       " (18, 19),\n",
       " (20, 22),\n",
       " (21, 24),\n",
       " (23, 25),\n",
       " (26, 27),\n",
       " (28, 30),\n",
       " (29, 31),\n",
       " (32, 33),\n",
       " (34, 35),\n",
       " (36, 38),\n",
       " (37, 39),\n",
       " (40, 41),\n",
       " (42, 44),\n",
       " (43, 45),\n",
       " (46, 47),\n",
       " (48, 49),\n",
       " (50, 52),\n",
       " (53, 55),\n",
       " (56, 57),\n",
       " (58, 60),\n",
       " (59, 62),\n",
       " (61, 63),\n",
       " (64, 66),\n",
       " (65, 68),\n",
       " (67, 69),\n",
       " (70, 71),\n",
       " (72, 74),\n",
       " (73, 75),\n",
       " (76, 77),\n",
       " (78, 79),\n",
       " (80, 82),\n",
       " (81, 83),\n",
       " (84, 85),\n",
       " (86, 87),\n",
       " (90, 91),\n",
       " (92, 94),\n",
       " (93, 95),\n",
       " (96, 98),\n",
       " (97, 99),\n",
       " (100, 102),\n",
       " (101, 104),\n",
       " (103, 105),\n",
       " (106, 108),\n",
       " (107, 110),\n",
       " (109, 112),\n",
       " (111, 113),\n",
       " (114, 116),\n",
       " (115, 118),\n",
       " (117, 119),\n",
       " (120, 122),\n",
       " (121, 123),\n",
       " (124, 126),\n",
       " (125, 128),\n",
       " (127, 130),\n",
       " (129, 132),\n",
       " (131, 1),\n",
       " (88, 51),\n",
       " (89, 54)]"
      ]
     },
     "execution_count": 9,
     "metadata": {},
     "output_type": "execute_result"
    }
   ],
   "source": [
    "new_gg"
   ]
  },
  {
   "cell_type": "code",
   "execution_count": 10,
   "metadata": {
    "scrolled": true
   },
   "outputs": [
    {
     "data": {
      "text/plain": [
       "[[(2, 3),\n",
       "  (4, 6),\n",
       "  (5, 7),\n",
       "  (8, 10),\n",
       "  (9, 11),\n",
       "  (12, 14),\n",
       "  (13, 16),\n",
       "  (15, 17),\n",
       "  (18, 19),\n",
       "  (20, 22),\n",
       "  (21, 24),\n",
       "  (23, 25),\n",
       "  (26, 27),\n",
       "  (28, 30),\n",
       "  (29, 31),\n",
       "  (32, 33),\n",
       "  (34, 35),\n",
       "  (36, 38),\n",
       "  (37, 39),\n",
       "  (40, 41),\n",
       "  (42, 44),\n",
       "  (43, 45),\n",
       "  (46, 47),\n",
       "  (48, 49),\n",
       "  (50, 52),\n",
       "  (51, 88),\n",
       "  (87, 86),\n",
       "  (85, 84),\n",
       "  (83, 81),\n",
       "  (82, 80),\n",
       "  (79, 78),\n",
       "  (77, 76),\n",
       "  (75, 73),\n",
       "  (74, 72),\n",
       "  (71, 70),\n",
       "  (69, 67),\n",
       "  (68, 65),\n",
       "  (66, 64),\n",
       "  (63, 61),\n",
       "  (62, 59),\n",
       "  (60, 58),\n",
       "  (57, 56),\n",
       "  (55, 53),\n",
       "  (54, 89),\n",
       "  (90, 91),\n",
       "  (92, 94),\n",
       "  (93, 95),\n",
       "  (96, 98),\n",
       "  (97, 99),\n",
       "  (100, 102),\n",
       "  (101, 104),\n",
       "  (103, 105),\n",
       "  (106, 108),\n",
       "  (107, 110),\n",
       "  (109, 112),\n",
       "  (111, 113),\n",
       "  (114, 116),\n",
       "  (115, 118),\n",
       "  (117, 119),\n",
       "  (120, 122),\n",
       "  (121, 123),\n",
       "  (124, 126),\n",
       "  (125, 128),\n",
       "  (127, 130),\n",
       "  (129, 132),\n",
       "  (131, 1)]]"
      ]
     },
     "execution_count": 10,
     "metadata": {},
     "output_type": "execute_result"
    }
   ],
   "source": [
    "bioinfo3.find_cycle_reoriented(new_gg)"
   ]
  },
  {
   "cell_type": "code",
   "execution_count": 12,
   "metadata": {},
   "outputs": [],
   "source": [
    "new_genome = bioinfo3.graph_to_genome(new_gg)"
   ]
  },
  {
   "cell_type": "code",
   "execution_count": 13,
   "metadata": {},
   "outputs": [
    {
     "name": "stdout",
     "output_type": "stream",
     "text": [
      "(+1 +2 -3 +4 -5 +6 -7 -8 +9 +10 -11 -12 +13 +14 -15 +16 +17 +18 -19 +20 +21 -22 +23 +24 +25 -26 -44 -43 -42 +41 -40 -39 -38 +37 -36 -35 +34 +33 -32 +31 +30 -29 -28 +27 +45 +46 -47 +48 -49 +50 -51 -52 +53 -54 -55 -56 +57 -58 -59 +60 -61 +62 -63 -64 -65 -66)"
     ]
    }
   ],
   "source": [
    "bioinfo3.print_genome(new_genome)"
   ]
  },
  {
   "cell_type": "code",
   "execution_count": null,
   "metadata": {},
   "outputs": [],
   "source": []
  },
  {
   "cell_type": "markdown",
   "metadata": {},
   "source": [
    "## 2 BREAKS SORTING"
   ]
  },
  {
   "cell_type": "code",
   "execution_count": 2,
   "metadata": {},
   "outputs": [],
   "source": [
    "def two_breaks_on_gg(gg, i1, i2, i3, i4):\n",
    "    gg = copy.deepcopy(gg)\n",
    "    if type(gg) == str:\n",
    "        gg = bioinfo3.parse_edges(gg)\n",
    "    try:\n",
    "        gg.remove((i1,i2))\n",
    "    except:\n",
    "        gg.remove((i2,i1))\n",
    "    try:\n",
    "        gg.remove((i3,i4))\n",
    "    except:\n",
    "        gg.remove((i4,i3))\n",
    "    gg.append((i1,i3))\n",
    "    gg.append((i2,i4))\n",
    "    return gg"
   ]
  },
  {
   "cell_type": "code",
   "execution_count": 52,
   "metadata": {},
   "outputs": [],
   "source": [
    "def is_trivialcycle(cycle):\n",
    "    if len(cycle) > 2:\n",
    "        return False\n",
    "    if cycle[0] == cycle[1] or cycle[0] == cycle[1][::-1]:\n",
    "        return True\n",
    "    else:\n",
    "        return False"
   ]
  },
  {
   "cell_type": "code",
   "execution_count": 136,
   "metadata": {
    "scrolled": false
   },
   "outputs": [],
   "source": [
    "def two_breaks_sorting(P,Q):\n",
    "    P = bioinfo3.parse_permutation(P) if type(P) == str else P\n",
    "    Q = bioinfo3.parse_permutation(Q) if type(Q) == str else Q\n",
    "    bioinfo3.print_genome(P)\n",
    "    print()\n",
    "    red_edges = bioinfo3.color_edges(P)\n",
    "    blue_edges = bioinfo3.color_edges(Q)\n",
    "    common_cycles = bioinfo3.find_common_cyle(red_edges,blue_edges)\n",
    "    all_trivial = all([is_trivialcycle(cycle) for cycle in common_cycles])\n",
    "    while not all_trivial :\n",
    "#         print(\"WHILE\")\n",
    "        all_trivial = is_trivialcycle(common_cycles[0])\n",
    "        for cycle in common_cycles:\n",
    "#             print(\"CYCLE\")\n",
    "            if is_trivialcycle(cycle) == True:\n",
    "                all_trivial = all((all_trivial,True))\n",
    "            else:\n",
    "                all_trivial = False\n",
    "                blue = cycle[0] if cycle[0] in blue_edges else cycle[1]\n",
    "                idx = cycle.index(blue)\n",
    "                red1 = cycle[idx-1]\n",
    "                red2 = cycle[idx+1]\n",
    "                i1 = blue[0]\n",
    "                i3 = blue[1]\n",
    "                if i1 in red1:\n",
    "                    i2 = [i for i in red1 if i != i1][0]\n",
    "                    i4 = [i for i in red2 if i != i3][0]\n",
    "                else:\n",
    "                    i2 = [i for i in red2 if i != i1][0]\n",
    "                    i4 = [i for i in red1 if i != i3][0]\n",
    "#                 print(\"blue edge\", blue_edges)\n",
    "#                 print(\"red edges\", red_edges,i1,i2,i3,i4)\n",
    "                red_edges = two_breaks_on_gg(red_edges,i1,i2,i3,i4)\n",
    "#                 print(\"new red edges\", red_edges)\n",
    "                new_P = graph_to_genome(red_edges)\n",
    "                bioinfo3.print_genome(new_P)\n",
    "                print()\n",
    "                common_cycles = bioinfo3.find_common_cyle(red_edges,blue_edges)\n",
    "#                 print(\"Common cycle\", common_cycles)\n",
    "                break\n",
    "    return None"
   ]
  },
  {
   "cell_type": "code",
   "execution_count": 2,
   "metadata": {
    "scrolled": true
   },
   "outputs": [
    {
     "name": "stdout",
     "output_type": "stream",
     "text": [
      "[[-6, -4, 5, 9, 12, -11, 13, 8, -10, -2, -3, 1, 7]]\n",
      "[[11, 12, 13, 10, -3, -6, -2, -1, 7, 4, -8, -9, 5]]\n"
     ]
    }
   ],
   "source": [
    "P = \"\"\"(-6 -4 +5 +9 +12 -11 +13 +8 -10 -2 -3 +1 +7)\n",
    "\"\"\"\n",
    "Q = \"\"\" (+11 +12 +13 +10 -3 -6 -2 -1 +7 +4 -8 -9 +5)\n",
    "\"\"\"\n",
    "P = bioinfo3.parse_permutation(P)\n",
    "Q = bioinfo3.parse_permutation(Q)\n",
    "print(P)\n",
    "print(Q)"
   ]
  },
  {
   "cell_type": "code",
   "execution_count": 4,
   "metadata": {},
   "outputs": [
    {
     "name": "stdout",
     "output_type": "stream",
     "text": [
      "(-6 -4 +5 +9 +12 -11 +13 +8 -10 -2 -3 +1 +7)\n",
      "(-4 +5 +9 +12 -11 +13 +8)(+1 +7 -6 -10 -2 -3)\n",
      "(-4 -5 +9 +12 -11 +13 +8)(+1 +7 -6 -10 -2 -3)\n",
      "(-4 -5 +9 -12 -11 +13 +8)(+1 +7 -6 -10 -2 -3)\n",
      "(-4 -5 +9 +11 +12 +13 +8)(+1 +7 -6 -10 -2 -3)\n",
      "(+1 +7 -6 -10 -2 -3)(+4 -8 -9 +5)(+11 +12 +13)\n",
      "(+1 +7 -6 -2 -3)(+4 -8 -9 +5)(+11 +12 +13)(-10)\n",
      "(+1 +7 -6 -2 +10 -3)(+4 -8 -9 +5)(+11 +12 +13)\n",
      "(-1 +7 -6 -2 +10 -3)(+4 -8 -9 +5)(+11 +12 +13)\n",
      "(+4 -8 -9 +5)(+11 +12 +13)(-2 +10 -3 -6)(-1 +7)\n",
      "(-1 +7 +4 -8 -9 +5)(+11 +12 +13)(-2 +10 -3 -6)\n",
      "(-1 +7 +4 -8 -9 +5 +11 +12 +13)(-2 +10 -3 -6)\n",
      "(-1 +7 +4 -8 -9 +5 +11 +12 +13 +10 -3 -6 -2)\n"
     ]
    }
   ],
   "source": [
    "bioinfo3.two_breaks_sorting(P,Q)"
   ]
  },
  {
   "cell_type": "code",
   "execution_count": 11,
   "metadata": {},
   "outputs": [
    {
     "name": "stdout",
     "output_type": "stream",
     "text": [
      "(+1 +2 +3 +4)(+5 +6)(+7 +8 +9)\n",
      "(+1 +2 +3 +4)(+7 +8 +9)(-5 +6)\n"
     ]
    }
   ],
   "source": [
    "P = \"\"\"(+1 +2 +3 +4)(+5 +6)(+7 +8 +9)\"\"\"\n",
    "Q = \"\"\"(+1 +2 +3 +4)(-5 +6)(+7 +8 +9)\"\"\"\n",
    "bioinfo3.two_breaks_sorting(P,Q)"
   ]
  },
  {
   "cell_type": "code",
   "execution_count": null,
   "metadata": {},
   "outputs": [],
   "source": []
  }
 ],
 "metadata": {
  "kernelspec": {
   "display_name": "Python 3",
   "language": "python",
   "name": "python3"
  },
  "language_info": {
   "codemirror_mode": {
    "name": "ipython",
    "version": 3
   },
   "file_extension": ".py",
   "mimetype": "text/x-python",
   "name": "python",
   "nbconvert_exporter": "python",
   "pygments_lexer": "ipython3",
   "version": "3.7.1"
  }
 },
 "nbformat": 4,
 "nbformat_minor": 2
}
