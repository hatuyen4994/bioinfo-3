{
 "cells": [
  {
   "cell_type": "code",
   "execution_count": 5,
   "metadata": {},
   "outputs": [],
   "source": [
    "import numpy as np\n",
    "import copy\n",
    "import bioinfo3"
   ]
  },
  {
   "cell_type": "markdown",
   "metadata": {},
   "source": [
    "```r\n",
    "2-BreakOnGenomeGraph(GenomeGraph, i1 , i2 , i3 , i4)\n",
    "     remove colored edges (i1, i2) and (i3, i4) from GenomeGraph\n",
    "     add colored edges (i1, i3) and (i2, i4) to GenomeGraph\n",
    "     return GenomeGraph\n",
    "```"
   ]
  },
  {
   "cell_type": "code",
   "execution_count": 6,
   "metadata": {},
   "outputs": [],
   "source": [
    "def two_breaks_on_gg(gg, i1, i2, i3, i4):\n",
    "    gg = copy.deepcopy(gg)\n",
    "    if type(gg) == str:\n",
    "        gg = bioinfo3.parse_edges(gg)\n",
    "    try:\n",
    "        gg.remove((i1,i2))\n",
    "    except:\n",
    "        gg.remove((i2,i1))\n",
    "    try:\n",
    "        gg.remove((i3,i4))\n",
    "    except:\n",
    "        gg.remove((i4,i3))\n",
    "    gg.append((i1,i3))\n",
    "    gg.append((i2,i4))\n",
    "    return gg"
   ]
  },
  {
   "cell_type": "code",
   "execution_count": 8,
   "metadata": {},
   "outputs": [],
   "source": [
    "gg = \"\"\"(2, 4), (3, 8), (7, 5), (6, 1)\n",
    "\"\"\"\n",
    "gg = bioinfo3.parse_edges(gg)\n",
    "bioinfo3.print_genome(bioinfo3.graph_to_genome(gg))"
   ]
  },
  {
   "cell_type": "code",
   "execution_count": 9,
   "metadata": {
    "scrolled": true
   },
   "outputs": [
    {
     "data": {
      "text/plain": [
       "[(2, 4), (3, 8), (7, 5), (6, 1)]"
      ]
     },
     "execution_count": 9,
     "metadata": {},
     "output_type": "execute_result"
    }
   ],
   "source": [
    "gg"
   ]
  },
  {
   "cell_type": "code",
   "execution_count": 10,
   "metadata": {
    "scrolled": true
   },
   "outputs": [
    {
     "data": {
      "text/plain": [
       "[(2, 4), (7, 5), (1, 3), (6, 8)]"
      ]
     },
     "execution_count": 10,
     "metadata": {},
     "output_type": "execute_result"
    }
   ],
   "source": [
    "new_gg = two_breaks_on_gg(gg,1,6,3,8)\n",
    "new_gg"
   ]
  },
  {
   "cell_type": "code",
   "execution_count": 11,
   "metadata": {},
   "outputs": [
    {
     "name": "stdout",
     "output_type": "stream",
     "text": [
      "(2, 4), (7, 5), (1, 3), (6, 8)\n"
     ]
    }
   ],
   "source": [
    "print(\", \".join(str(i) for i in new_gg))"
   ]
  },
  {
   "cell_type": "code",
   "execution_count": 12,
   "metadata": {},
   "outputs": [
    {
     "data": {
      "text/plain": [
       "[[1, 2], [3, -4]]"
      ]
     },
     "execution_count": 12,
     "metadata": {},
     "output_type": "execute_result"
    }
   ],
   "source": [
    "bioinfo3.graph_to_genome(new_gg)"
   ]
  },
  {
   "cell_type": "code",
   "execution_count": 13,
   "metadata": {
    "scrolled": true
   },
   "outputs": [
    {
     "data": {
      "text/plain": [
       "[[1, -2], [3, -4]]"
      ]
     },
     "execution_count": 13,
     "metadata": {},
     "output_type": "execute_result"
    }
   ],
   "source": [
    "bioinfo3.graph_to_genome([(2, 4), (3, 1), (7, 5), (6, 8)])\n"
   ]
  },
  {
   "cell_type": "code",
   "execution_count": 17,
   "metadata": {},
   "outputs": [],
   "source": [
    "\n",
    "def cycle_to_chromosome(nodes):\n",
    "    #input has format of [1, 2, 4, 3, 6, 5, 7, 8]\n",
    "    chromosome = []\n",
    "    for j in range(0, int(len(nodes)/2)):\n",
    "        if nodes[2*j] < nodes[2*j+1]:\n",
    "            chromosome.append(int(nodes[2*j+1]/2))\n",
    "        else:\n",
    "            chromosome.append(int(-nodes[2*j]/2))\n",
    "    return chromosome\n",
    "\n",
    "def find_cycle_from_gg(gg):\n",
    "    #input has format of [(2, 4), (3, 6), (5, 1)]\n",
    "    cycles = []\n",
    "    gg_copy = copy.deepcopy(gg)\n",
    "    while gg_copy != []:\n",
    "        gg_copy = copy.deepcopy(gg)\n",
    "        start_edge = gg_copy[0]\n",
    "        start_node = min(start_edge)\n",
    "        next_node = start_node\n",
    "        cycle = []\n",
    "        if start_node % 2 == 0:\n",
    "            end_node = start_node - 1\n",
    "        else:\n",
    "            end_node = start_node + 1\n",
    "        for edge in gg:\n",
    "            if next_node in edge:\n",
    "                cycle.append(edge)\n",
    "                gg_copy.remove(edge)\n",
    "                max_node = max(edge)\n",
    "                next_node = max_node - 1 if max_node % 2 == 0 else max_node + 1\n",
    "                if end_node in edge:\n",
    "                    gg = gg_copy\n",
    "                    break\n",
    "            else:\n",
    "                pass\n",
    "        cycles.append(cycle)\n",
    "    return cycles\n",
    "\n",
    "def graph_to_genome(gg):\n",
    "    #genome graph is the same as color edges \n",
    "    #genome is the same as permutation\n",
    "    #input has format of [(2, 4), (3, 6), (5, 1)] or \"(2, 4), (3, 6), (5, 1)\"\n",
    "    P = []\n",
    "    if type(gg) == str:\n",
    "        gg = parse_edges(gg)\n",
    "    cycles = find_cycle_from_gg(gg)\n",
    "    for cycle in cycles:\n",
    "        nodes = []\n",
    "        for edge in cycle:\n",
    "            nodes += [edge[0]]\n",
    "            nodes += [edge[1]]\n",
    "        argmin = nodes.index(min(nodes))\n",
    "        nodes = nodes[argmin:] + nodes[:argmin]\n",
    "        if nodes[-1] == nodes[0] + 1:\n",
    "            nodes = [nodes[-1]] + nodes[:-1]\n",
    "        chromosome = cycle_to_chromosome(nodes)\n",
    "        P.append(chromosome)\n",
    "    return P"
   ]
  },
  {
   "cell_type": "code",
   "execution_count": 18,
   "metadata": {},
   "outputs": [
    {
     "data": {
      "text/plain": [
       "[[(2, 4), (1, 3)], [(7, 5), (6, 8)]]"
      ]
     },
     "execution_count": 18,
     "metadata": {},
     "output_type": "execute_result"
    }
   ],
   "source": [
    "gg = [(2, 4), (7, 5), (1, 3), (6, 8)]\n",
    "find_cycle_from_gg(gg)"
   ]
  },
  {
   "cell_type": "code",
   "execution_count": 19,
   "metadata": {},
   "outputs": [
    {
     "data": {
      "text/plain": [
       "[[1, 2], [3, -4]]"
      ]
     },
     "execution_count": 19,
     "metadata": {},
     "output_type": "execute_result"
    }
   ],
   "source": [
    "graph_to_genome(gg)"
   ]
  },
  {
   "cell_type": "code",
   "execution_count": null,
   "metadata": {},
   "outputs": [],
   "source": [
    "gg = \"\"\"(2, 4), (3, 8), (7, 5), (6, 1)\n",
    "\"\"\"\n",
    "gg = bioinfo3.parse_edges(gg)"
   ]
  },
  {
   "cell_type": "code",
   "execution_count": 20,
   "metadata": {},
   "outputs": [],
   "source": [
    "P = \"(+1 -2 -4 +3)\"\n",
    "P = bioinfo3.parse_permutation(P)"
   ]
  },
  {
   "cell_type": "code",
   "execution_count": 24,
   "metadata": {},
   "outputs": [
    {
     "data": {
      "text/plain": [
       "[1, -2, -4, 3]"
      ]
     },
     "execution_count": 24,
     "metadata": {},
     "output_type": "execute_result"
    }
   ],
   "source": [
    "P"
   ]
  },
  {
   "cell_type": "code",
   "execution_count": 23,
   "metadata": {},
   "outputs": [
    {
     "ename": "TypeError",
     "evalue": "object of type 'int' has no len()",
     "output_type": "error",
     "traceback": [
      "\u001b[1;31m---------------------------------------------------------------------------\u001b[0m",
      "\u001b[1;31mTypeError\u001b[0m                                 Traceback (most recent call last)",
      "\u001b[1;32m<ipython-input-23-0d4f0c20583d>\u001b[0m in \u001b[0;36m<module>\u001b[1;34m\u001b[0m\n\u001b[1;32m----> 1\u001b[1;33m \u001b[0mbioinfo3\u001b[0m\u001b[1;33m.\u001b[0m\u001b[0mcolor_edges\u001b[0m\u001b[1;33m(\u001b[0m\u001b[0mP\u001b[0m\u001b[1;33m)\u001b[0m\u001b[1;33m\u001b[0m\u001b[1;33m\u001b[0m\u001b[0m\n\u001b[0m",
      "\u001b[1;32mE:\\2-PROJECTS\\bioinfo\\bioinfo-3\\bioinfo3.py\u001b[0m in \u001b[0;36mcolor_edges\u001b[1;34m(P)\u001b[0m\n\u001b[0;32m    565\u001b[0m     \u001b[0medges\u001b[0m \u001b[1;33m=\u001b[0m \u001b[1;33m[\u001b[0m\u001b[1;33m]\u001b[0m\u001b[1;33m\u001b[0m\u001b[1;33m\u001b[0m\u001b[0m\n\u001b[0;32m    566\u001b[0m     \u001b[1;32mfor\u001b[0m \u001b[0mchromosome\u001b[0m \u001b[1;32min\u001b[0m \u001b[0mP\u001b[0m\u001b[1;33m:\u001b[0m\u001b[1;33m\u001b[0m\u001b[1;33m\u001b[0m\u001b[0m\n\u001b[1;32m--> 567\u001b[1;33m         \u001b[0mnodes\u001b[0m \u001b[1;33m=\u001b[0m \u001b[0mchromosome_to_cycle\u001b[0m\u001b[1;33m(\u001b[0m\u001b[0mchromosome\u001b[0m\u001b[1;33m)\u001b[0m\u001b[1;33m\u001b[0m\u001b[1;33m\u001b[0m\u001b[0m\n\u001b[0m\u001b[0;32m    568\u001b[0m         \u001b[1;32mfor\u001b[0m \u001b[0mj\u001b[0m \u001b[1;32min\u001b[0m \u001b[0mrange\u001b[0m\u001b[1;33m(\u001b[0m\u001b[0mlen\u001b[0m\u001b[1;33m(\u001b[0m\u001b[0mchromosome\u001b[0m\u001b[1;33m)\u001b[0m\u001b[1;33m)\u001b[0m\u001b[1;33m:\u001b[0m\u001b[1;33m\u001b[0m\u001b[1;33m\u001b[0m\u001b[0m\n\u001b[0;32m    569\u001b[0m             \u001b[1;32mif\u001b[0m \u001b[0mj\u001b[0m \u001b[1;33m!=\u001b[0m \u001b[0mlen\u001b[0m\u001b[1;33m(\u001b[0m\u001b[0mchromosome\u001b[0m\u001b[1;33m)\u001b[0m\u001b[1;33m-\u001b[0m\u001b[1;36m1\u001b[0m\u001b[1;33m:\u001b[0m\u001b[1;33m\u001b[0m\u001b[1;33m\u001b[0m\u001b[0m\n",
      "\u001b[1;32mE:\\2-PROJECTS\\bioinfo\\bioinfo-3\\bioinfo3.py\u001b[0m in \u001b[0;36mchromosome_to_cycle\u001b[1;34m(chromosome)\u001b[0m\n\u001b[0;32m    539\u001b[0m     \u001b[1;31m# input has format of [-1,2,3]\u001b[0m\u001b[1;33m\u001b[0m\u001b[1;33m\u001b[0m\u001b[1;33m\u001b[0m\u001b[0m\n\u001b[0;32m    540\u001b[0m     \u001b[0mnodes\u001b[0m \u001b[1;33m=\u001b[0m \u001b[1;33m[\u001b[0m\u001b[1;33m]\u001b[0m\u001b[1;33m\u001b[0m\u001b[1;33m\u001b[0m\u001b[0m\n\u001b[1;32m--> 541\u001b[1;33m     \u001b[1;32mfor\u001b[0m \u001b[0mj\u001b[0m \u001b[1;32min\u001b[0m \u001b[0mrange\u001b[0m\u001b[1;33m(\u001b[0m\u001b[1;36m0\u001b[0m\u001b[1;33m,\u001b[0m\u001b[0mlen\u001b[0m\u001b[1;33m(\u001b[0m\u001b[0mchromosome\u001b[0m\u001b[1;33m)\u001b[0m\u001b[1;33m)\u001b[0m\u001b[1;33m:\u001b[0m\u001b[1;33m\u001b[0m\u001b[1;33m\u001b[0m\u001b[0m\n\u001b[0m\u001b[0;32m    542\u001b[0m         \u001b[0mi\u001b[0m \u001b[1;33m=\u001b[0m \u001b[0mchromosome\u001b[0m\u001b[1;33m[\u001b[0m\u001b[0mj\u001b[0m\u001b[1;33m]\u001b[0m\u001b[1;33m\u001b[0m\u001b[1;33m\u001b[0m\u001b[0m\n\u001b[0;32m    543\u001b[0m         \u001b[1;32mif\u001b[0m \u001b[0mi\u001b[0m \u001b[1;33m>\u001b[0m \u001b[1;36m0\u001b[0m\u001b[1;33m:\u001b[0m\u001b[1;33m\u001b[0m\u001b[1;33m\u001b[0m\u001b[0m\n",
      "\u001b[1;31mTypeError\u001b[0m: object of type 'int' has no len()"
     ]
    }
   ],
   "source": [
    "bioinfo3.color_edges(P)"
   ]
  },
  {
   "cell_type": "code",
   "execution_count": null,
   "metadata": {},
   "outputs": [],
   "source": []
  }
 ],
 "metadata": {
  "kernelspec": {
   "display_name": "Python 3",
   "language": "python",
   "name": "python3"
  },
  "language_info": {
   "codemirror_mode": {
    "name": "ipython",
    "version": 3
   },
   "file_extension": ".py",
   "mimetype": "text/x-python",
   "name": "python",
   "nbconvert_exporter": "python",
   "pygments_lexer": "ipython3",
   "version": "3.7.1"
  }
 },
 "nbformat": 4,
 "nbformat_minor": 2
}
