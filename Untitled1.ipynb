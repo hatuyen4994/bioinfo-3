{
 "cells": [
  {
   "cell_type": "code",
   "execution_count": 2,
   "metadata": {},
   "outputs": [],
   "source": [
    "import numpy as np\n",
    "import copy\n",
    "import bioinfo3"
   ]
  },
  {
   "cell_type": "code",
   "execution_count": 82,
   "metadata": {},
   "outputs": [],
   "source": [
    "def find_cycle_from_gg(gg):\n",
    "    cycles = []\n",
    "    count = 0\n",
    "    gg_copy = copy.deepcopy(gg)\n",
    "    while gg_copy != []:\n",
    "        gg_copy = copy.deepcopy(gg)\n",
    "        start_edge = gg_copy[0]\n",
    "        start_node = min(start_edge)\n",
    "        cycle = []\n",
    "        if start_node % 2 == 0:\n",
    "            end_node = start_node - 1\n",
    "        else:\n",
    "            end_node = start_node + 1\n",
    "        for edge in gg:\n",
    "            cycle.append(edge)\n",
    "            gg_copy.remove(edge)\n",
    "            if end_node in edge:\n",
    "                gg = gg_copy\n",
    "                break\n",
    "        cycles.append(cycle)\n",
    "    return cycles\n",
    "\n",
    "def graph_to_genome(gg):\n",
    "    #genome graph is the same as color edges \n",
    "    #genome is the same as permutation\n",
    "    P = []\n",
    "    if type(gg) == str:\n",
    "        gg = parse_edges(gg)\n",
    "    cycles = find_cycle_from_gg(gg)\n",
    "    for cycle in cycles:\n",
    "        nodes = []\n",
    "        for edge in cycle:\n",
    "            nodes += [edge[0]]\n",
    "            nodes += [edge[1]]\n",
    "        argmin = nodes.index(min(nodes))\n",
    "        nodes = nodes[argmin:] + nodes[:argmin]\n",
    "        if nodes[-1] == nodes[0] + 1:\n",
    "            nodes = [nodes[-1]] + nodes[:-1]\n",
    "        chromosome = bioinfo3.cycle_to_chromosome(nodes)\n",
    "        P.append(chromosome)\n",
    "    return P\n",
    "def print_genome(genome):\n",
    "    #Input has format of [[1, -2, -3], [-4, 5, -6]]\n",
    "    for gene in genome:\n",
    "        print(\"(\",end=\"\")\n",
    "        string = \" \".join((\"+\" if i > 0 else \"\") + str(i) for i in gene )\n",
    "        print(string,end=\")\")\n",
    "    return None"
   ]
  },
  {
   "cell_type": "code",
   "execution_count": 91,
   "metadata": {},
   "outputs": [
    {
     "data": {
      "text/plain": [
       "[[1, -2], [3, -4]]"
      ]
     },
     "execution_count": 91,
     "metadata": {},
     "output_type": "execute_result"
    }
   ],
   "source": [
    "gg = \"(2, 4), (3, 1), (7, 5), (6, 8)\"\n",
    "gg = bioinfo3.parse_edges(gg)\n",
    "gg\n",
    "graph_to_genome(gg)"
   ]
  },
  {
   "cell_type": "code",
   "execution_count": 84,
   "metadata": {},
   "outputs": [
    {
     "data": {
      "text/plain": [
       "[[(2, 4), (3, 6), (5, 1)], [(7, 9), (10, 12), (11, 8)]]"
      ]
     },
     "execution_count": 84,
     "metadata": {},
     "output_type": "execute_result"
    }
   ],
   "source": [
    "find_cycle_from_gg(gg)"
   ]
  },
  {
   "cell_type": "code",
   "execution_count": 85,
   "metadata": {},
   "outputs": [],
   "source": [
    "gg = \"\"\"(1, 3), (4, 5), (6, 8), (7, 9), (10, 12), (11, 13), (14, 15), (16, 17), (18, 20), (19, 22), (21, 24), (23, 26), (25, 28), (27, 30), (29, 31), (32, 33), (34, 35), (36, 38), (37, 39), (40, 42), (41, 2), (43, 45), (46, 47), (48, 50), (49, 52), (51, 54), (53, 56), (55, 58), (57, 59), (60, 62), (61, 64), (63, 65), (66, 68), (67, 69), (70, 71), (72, 74), (73, 76), (75, 78), (77, 79), (80, 82), (81, 84), (83, 44), (86, 88), (87, 90), (89, 91), (92, 93), (94, 96), (95, 97), (98, 99), (100, 102), (101, 104), (103, 105), (106, 107), (108, 109), (110, 111), (112, 114), (113, 116), (115, 118), (117, 119), (120, 121), (122, 123), (124, 126), (125, 128), (127, 130), (129, 132), (131, 133), (134, 136), (135, 137), (138, 139), (140, 142), (141, 143), (144, 85), (145, 148), (147, 149), (150, 151), (152, 153), (154, 156), (155, 157), (158, 160), (159, 162), (161, 164), (163, 165), (166, 168), (167, 170), (169, 171), (172, 174), (173, 175), (176, 177), (178, 180), (179, 181), (182, 183), (184, 186), (185, 188), (187, 189), (190, 191), (192, 194), (193, 195), (196, 197), (198, 200), (199, 146), (202, 204), (203, 205), (206, 208), (207, 209), (210, 211), (212, 214), (213, 216), (215, 218), (217, 220), (219, 221), (222, 223), (224, 225), (226, 227), (228, 229), (230, 231), (232, 233), (234, 235), (236, 238), (237, 239), (240, 201), (241, 243), (244, 246), (245, 248), (247, 250), (249, 252), (251, 253), (254, 255), (256, 257), (258, 259), (260, 261), (262, 264), (263, 266), (265, 268), (267, 269), (270, 271), (272, 274), (273, 276), (275, 277), (278, 279), (280, 281), (282, 283), (284, 286), (285, 287), (288, 289), (290, 292), (291, 294), (293, 242), (295, 298), (297, 299), (300, 302), (301, 303), (304, 305), (306, 308), (307, 309), (310, 312), (311, 313), (314, 316), (315, 318), (317, 320), (319, 322), (321, 323), (324, 325), (326, 327), (328, 329), (330, 331), (332, 334), (333, 336), (335, 337), (338, 296), (340, 342), (341, 343), (344, 345), (346, 348), (347, 350), (349, 352), (351, 354), (353, 356), (355, 357), (358, 360), (359, 362), (361, 363), (364, 365), (366, 367), (368, 370), (369, 371), (372, 374), (373, 375), (376, 378), (377, 380), (379, 382), (381, 383), (384, 385), (386, 388), (387, 339)\n",
    "\"\"\"\n",
    "gg = bioinfo3.parse_edges(gg)\n",
    "genome = bioinfo3.graph_to_genome(gg)"
   ]
  },
  {
   "cell_type": "code",
   "execution_count": 86,
   "metadata": {},
   "outputs": [
    {
     "name": "stdout",
     "output_type": "stream",
     "text": [
      "(-1 +2 +3 -4 +5 -6 +7 +8 +9 -10 -11 -12 -13 -14 -15 +16 +17 +18 -19 +20 -21)(-22 +23 +24 -25 -26 -27 -28 -29 +30 -31 -32 +33 -34 +35 +36 -37 -38 -39 +40 -41 -42)(+43 -44 -45 +46 +47 -48 +49 +50 -51 -52 +53 +54 +55 +56 -57 -58 -59 +60 +61 +62 -63 -64 -65 -66 +67 -68 +69 +70 -71 +72)(-73 -74 +75 +76 +77 -78 +79 -80 -81 -82 +83 -84 -85 +86 -87 +88 +89 -90 +91 +92 -93 -94 +95 +96 -97 +98 +99 -100)(+101 -102 +103 -104 +105 +106 -107 -108 -109 -110 +111 +112 +113 +114 +115 +116 +117 +118 -119 +120)(-121 +122 -123 -124 -125 -126 +127 +128 +129 +130 +131 -132 -133 -134 +135 +136 -137 -138 +139 +140 +141 +142 -143 +144 +145 -146 -147)(-148 -149 +150 -151 +152 +153 -154 +155 -156 +157 -158 -159 -160 -161 +162 +163 +164 +165 +166 -167 -168 +169)(+170 -171 +172 +173 -174 -175 -176 -177 -178 +179 -180 -181 +182 +183 +184 -185 +186 -187 +188 -189 -190 -191 +192 +193 -194)"
     ]
    }
   ],
   "source": [
    "print_genome(genome)"
   ]
  },
  {
   "cell_type": "code",
   "execution_count": null,
   "metadata": {},
   "outputs": [],
   "source": [
    "def two_breaks_on_gg(gg, i1, i2, i3, i4):\n",
    "    "
   ]
  }
 ],
 "metadata": {
  "kernelspec": {
   "display_name": "Python 3",
   "language": "python",
   "name": "python3"
  },
  "language_info": {
   "codemirror_mode": {
    "name": "ipython",
    "version": 3
   },
   "file_extension": ".py",
   "mimetype": "text/x-python",
   "name": "python",
   "nbconvert_exporter": "python",
   "pygments_lexer": "ipython3",
   "version": "3.7.1"
  }
 },
 "nbformat": 4,
 "nbformat_minor": 2
}
